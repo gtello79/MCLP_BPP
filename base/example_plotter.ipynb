{
 "cells": [
  {
   "cell_type": "markdown",
   "metadata": {},
   "source": [
    "# Conexión por SSH"
   ]
  },
  {
   "cell_type": "markdown",
   "metadata": {},
   "source": [
    "Inicializar la conexion ssh\n"
   ]
  },
  {
   "cell_type": "code",
   "execution_count": 16,
   "metadata": {},
   "outputs": [],
   "source": [
    "import paramiko\n",
    "import getpass\n",
    "\n",
    "host = \"158.251.88.197\"\n",
    "port = 22\n",
    "username = \"gonzalo\"\n",
    "password = getpass.getpass()\n",
    "\n",
    "ssh = paramiko.SSHClient()\n",
    "ssh.set_missing_host_key_policy(paramiko.AutoAddPolicy())\n",
    "ssh.connect(host, port, username, password)"
   ]
  },
  {
   "cell_type": "markdown",
   "metadata": {},
   "source": [
    "`loadBoxes(path,instance)`\n",
    "--\n",
    "Se carga las cajas de una instancia"
   ]
  },
  {
   "cell_type": "code",
   "execution_count": 5,
   "metadata": {
    "tags": []
   },
   "outputs": [],
   "source": [
    "import numpy as np\n",
    "\n",
    "dimBox = dict()\n",
    "vol = dict()\n",
    "volBin = dict() #Volumen de cada bin\n",
    "\n",
    "def loadBoxes(idClass, boxSize, idInstance):\n",
    "    filePath = '../benchs/class'+str(idClass)+'/'+str(boxSize)+'.txt'\n",
    "    instanceIndex = -1\n",
    "    countBox = 0\n",
    "    totalBox = 0\n",
    "    boxesinfo = []\n",
    "    binDim = []\n",
    "    \n",
    "    boxesFile = open(filePath,'r')\n",
    "    \n",
    "    #Lectura del archivo\n",
    "    for line in boxesFile.readlines():\n",
    "        info = line.strip().split()\n",
    "        \n",
    "        if(instanceIndex < idInstance and len(info) == 4):\n",
    "            instanceIndex+=1\n",
    "            totalBox = int(info[0])\n",
    "        \n",
    "        elif(instanceIndex == idInstance):\n",
    "            #La instancia que se esta buscando\n",
    "            if(len(info) == 4):\n",
    "                instanceIndex+=1\n",
    "                totalBox = int(info[0])\n",
    "                binDim = [int(info[i]) for i in range(1, len(info))]\n",
    "                binDim = np.array(binDim)\n",
    "            \n",
    "            elif(len(info) == 3 and countBox < totalBox):\n",
    "                countBox+=1    \n",
    "                b = np.array([int(info[i]) for i in range(0, len(info))])\n",
    "                b.sort()\n",
    "                boxesinfo.append(b)\n",
    "\n",
    "    countBox = 0\n",
    "    for boxSize in boxesinfo:\n",
    "        dimBox[countBox] = np.array(boxSize)\n",
    "        countBox +=1\n"
   ]
  },
  {
   "cell_type": "markdown",
   "metadata": {},
   "source": [
    "Implementé un *servidor MCLP*, el cual escucha instrucciones para generar bins.\n",
    "\n",
    "El siguiente código lanza el servidor en el background, carga una instancia y lo deja escuchando peticiones por el puerto 8080"
   ]
  },
  {
   "cell_type": "code",
   "execution_count": 6,
   "metadata": {},
   "outputs": [],
   "source": [
    "def loadInstance(idClass=1, boxSize=100, idInstance=0, port=8061):\n",
    "    transport = ssh.get_transport()\n",
    "    channel = transport.open_session()\n",
    "    loadBoxes(idClass, boxSize, idInstance)\n",
    "    channel.exec_command(\"killall BASIC_BSG_MCLP; ./mclp/Metasolver/BASIC_BSG_MCLP mclp/Metasolver/problems/mclp/benchs/class\"+ \\\n",
    "                         str(idClass)+\"/\"+str(boxSize)+\".txt -i \"+str(idInstance)+\" --port=\"+str(port))\n",
    "    return dimBox, channel"
   ]
  },
  {
   "cell_type": "markdown",
   "metadata": {},
   "source": [
    "Para cerrar el servidor MCLP"
   ]
  },
  {
   "cell_type": "markdown",
   "metadata": {},
   "source": [
    "# Multiple Container Loading Problem"
   ]
  },
  {
   "cell_type": "code",
   "execution_count": 7,
   "metadata": {},
   "outputs": [],
   "source": [
    "volBin = dict() #Volumen de cada bin\n",
    "\n",
    "def generate_bins(port=8060):\n",
    "    #probarlo con distintas instancias\n",
    "    \n",
    "    local_command = \"echo generate_bins | netcat localhost \"+str(port)\n",
    "    stdin, stdout, stderr = ssh.exec_command(local_command)\n",
    "    flag = False\n",
    "    bins = []\n",
    "    count = 0\n",
    "    for line in stdout.readlines():\n",
    "        if \"BINS:\" in line: \n",
    "            flag = True\n",
    "            continue\n",
    "        if flag:    \n",
    "            #Modificar igual que generate_bin\n",
    "            line = line.strip().split()\n",
    "            vol = float(line[0]) #Porcentaje de llenado del bin\n",
    "            newBin = np.array([int(line[x]) for x in range(1,len(line))])\n",
    "            #calcular el volumen\n",
    "            bins.append(newBin)\n",
    "            volBin[count] = vol\n",
    "            count +=1\n",
    "    #recordar forma del arreglo        \n",
    "    return bins"
   ]
  },
  {
   "cell_type": "markdown",
   "metadata": {},
   "source": [
    "**Construcción de bin priorizando cajas (BSG)**"
   ]
  },
  {
   "cell_type": "code",
   "execution_count": 17,
   "metadata": {},
   "outputs": [],
   "source": [
    "import paramiko\n",
    "import getpass\n",
    "import numpy as np\n",
    "\n",
    "def generate_bin(boxes, new_box, port=8060):\n",
    "    global channel\n",
    "    index = 0\n",
    "    leftboxes = []\n",
    "    newBin = []\n",
    "    boxes = np.insert(boxes, 1, new_box)\n",
    "    boxes_str = [str(box) for box in boxes]\n",
    "    pboxes_str = str(new_box)\n",
    "\n",
    "    local_command = \"echo generate_bin \" + \" \".join(boxes_str) + \" -1 \" + pboxes_str +  \" -2 | netcat localhost \"+str(port)\n",
    "    stdin, stdout, stderr = ssh.exec_command(local_command)\n",
    "    lines = stdout.readlines()\n",
    "    print(lines)\n",
    "    \n",
    "    for line in lines: \n",
    "        #ajustar linea para almacenar los conjuntos de cajas\n",
    "        line = line.strip().split()\n",
    "        \n",
    "        if(index == 0):\n",
    "            #primera linea boxes \n",
    "            percent = float(line.pop(0))\n",
    "            newBin = np.array([int(x) for x in line])            \n",
    "        else:\n",
    "            #segunda linea left boxes\n",
    "            leftboxes = np.array([int(x) for x in line])\n",
    "        index+=1\n",
    "\n",
    "    return newBin, leftboxes"
   ]
  },
  {
   "cell_type": "code",
   "execution_count": 18,
   "metadata": {},
   "outputs": [
    {
     "output_type": "stream",
     "name": "stdout",
     "text": [
      "Universe\n",
      "[array([ 0, 63, 83, 89]), array([ 1,  8, 26, 69, 73, 84, 90]), array([ 2, 30, 50, 92, 93]), array([3, 5]), array([ 4, 32, 54, 88]), array([ 6, 21, 64, 65, 66, 94, 97, 98]), array([ 7, 46, 96]), array([ 9, 10, 11, 12, 15, 20, 23, 34, 35, 39, 48, 49, 55, 62, 77, 99]), array([13, 31, 51, 52, 68, 80]), array([14, 29, 44, 81]), array([16, 38, 56, 60]), array([17, 22, 25, 33, 79]), array([18, 37]), array([19, 61, 70, 95]), array([24, 57, 86]), array([27, 36, 41, 72]), array([28, 91]), array([40, 53, 74]), array([42, 43, 82]), array([45, 75, 85]), array([47, 67]), array([58, 71, 76]), array([59, 87]), array([78])]\n",
      "Generator\n",
      "['0.7891 0 62 63 83 89 \\n', '\\n']\n"
     ]
    }
   ],
   "source": [
    "boxes, channel = loadInstance(1,100,0,port=8061)   \n",
    "bins = generate_bins(port=8061)\n",
    "print(\"Universe\")\n",
    "print (bins)\n",
    "print(\"Generator\")\n",
    "generate_bin([ 0, 63, 83, 89], 62, port=8061)\n",
    "stdin, stdout, stderr = ssh.exec_command(\"echo get_boxes | netcat localhost 8061\")\n",
    "sol_vector = []\n",
    "for line in stdout.readlines():\n",
    "    box = np.fromstring(line, sep=',', dtype=int)\n",
    "    if len(box)>1:\n",
    "        sol_vector.append(box)"
   ]
  },
  {
   "cell_type": "code",
   "execution_count": 2,
   "metadata": {},
   "outputs": [
    {
     "output_type": "error",
     "ename": "NameError",
     "evalue": "name 'box_plotter' is not defined",
     "traceback": [
      "\u001b[1;31m---------------------------------------------------------------------------\u001b[0m",
      "\u001b[1;31mNameError\u001b[0m                                 Traceback (most recent call last)",
      "\u001b[1;32m<ipython-input-2-1851a31b0e5a>\u001b[0m in \u001b[0;36m<module>\u001b[1;34m\u001b[0m\n\u001b[0;32m      2\u001b[0m \u001b[1;32mfrom\u001b[0m \u001b[0mbox_plotter\u001b[0m \u001b[1;32mimport\u001b[0m \u001b[0mBox\u001b[0m\u001b[1;33m,\u001b[0m \u001b[0msave_container\u001b[0m\u001b[1;33m\u001b[0m\u001b[1;33m\u001b[0m\u001b[0m\n\u001b[0;32m      3\u001b[0m \u001b[1;32mimport\u001b[0m \u001b[0mimportlib\u001b[0m\u001b[1;33m\u001b[0m\u001b[1;33m\u001b[0m\u001b[0m\n\u001b[1;32m----> 4\u001b[1;33m \u001b[0mimportlib\u001b[0m\u001b[1;33m.\u001b[0m\u001b[0mreload\u001b[0m\u001b[1;33m(\u001b[0m\u001b[0mbox_plotter\u001b[0m\u001b[1;33m)\u001b[0m\u001b[1;33m\u001b[0m\u001b[1;33m\u001b[0m\u001b[0m\n\u001b[0m\u001b[0;32m      5\u001b[0m \u001b[1;33m\u001b[0m\u001b[0m\n\u001b[0;32m      6\u001b[0m \u001b[0msave_container\u001b[0m\u001b[1;33m(\u001b[0m\u001b[1;33m[\u001b[0m\u001b[1;36m100\u001b[0m\u001b[1;33m,\u001b[0m\u001b[1;36m100\u001b[0m\u001b[1;33m,\u001b[0m\u001b[1;36m100\u001b[0m\u001b[1;33m]\u001b[0m\u001b[1;33m,\u001b[0m \u001b[0msol_vector\u001b[0m\u001b[1;33m,\u001b[0m \u001b[1;34m'fig1.png'\u001b[0m\u001b[1;33m)\u001b[0m\u001b[1;33m\u001b[0m\u001b[1;33m\u001b[0m\u001b[0m\n",
      "\u001b[1;31mNameError\u001b[0m: name 'box_plotter' is not defined"
     ]
    }
   ],
   "source": [
    "import box_plotter\n",
    "from box_plotter import Box, save_container\n",
    "import importlib\n",
    "importlib.reload(box_plotter)\n",
    "\n",
    "save_container([100,100,100], sol_vector, 'fig1.png')\n",
    "\n",
    "from IPython.display import Image \n",
    "pil_img = Image(filename='fig1.png')\n",
    "display(pil_img)"
   ]
  },
  {
   "cell_type": "code",
   "execution_count": null,
   "metadata": {},
   "outputs": [],
   "source": []
  }
 ],
 "metadata": {
  "kernelspec": {
   "name": "python3",
   "display_name": "Python 3",
   "language": "python"
  },
  "language_info": {
   "codemirror_mode": {
    "name": "ipython",
    "version": 3
   },
   "file_extension": ".py",
   "mimetype": "text/x-python",
   "name": "python",
   "nbconvert_exporter": "python",
   "pygments_lexer": "ipython3",
   "version": "3.8.3-final"
  }
 },
 "nbformat": 4,
 "nbformat_minor": 4
}