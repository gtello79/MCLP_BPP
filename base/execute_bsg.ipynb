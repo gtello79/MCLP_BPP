{
 "cells": [
  {
   "cell_type": "code",
   "execution_count": 91,
   "metadata": {},
   "outputs": [
    {
     "name": "stdin",
     "output_type": "stream",
     "text": [
      " ········\n"
     ]
    }
   ],
   "source": [
    "import paramiko\n",
    "import getpass\n",
    "\n",
    "host = \"158.251.88.197\"\n",
    "port = 22\n",
    "username = \"iaraya\"\n",
    "password = getpass.getpass()\n",
    "\n",
    "ssh = paramiko.SSHClient()\n",
    "ssh.set_missing_host_key_policy(paramiko.AutoAddPolicy())\n",
    "ssh.connect(host, port, username, password)"
   ]
  },
  {
   "cell_type": "code",
   "execution_count": 107,
   "metadata": {},
   "outputs": [],
   "source": [
    "import random\n",
    "\n",
    "def write_instance(L,W,H,boxes,filename):\n",
    "    txt = \"1\\n1 0\\n\"+str(L)+\" \"+str(W)+\" \"+str(H)+\"\\n\";\n",
    "    txt += str(len(boxes)) + \"\\n\"\n",
    "    for box in boxes:\n",
    "        txt += str(box.id) + ' ' + str(box.l) + ' ' + str(box.rotx) \\\n",
    "            + ' ' + str(box.w) + ' ' + str(box.roty) \\\n",
    "            + ' ' + str(box.h) + ' ' + str(box.rotz) + ' ' + str(boxes[box])  + '\\n'\n",
    "    txt += '\\n'\n",
    "\n",
    "    text_file = open(filename, \"w\")\n",
    "    text_file.write(txt)\n",
    "    text_file.close()\n"
   ]
  },
  {
   "cell_type": "code",
   "execution_count": 129,
   "metadata": {},
   "outputs": [],
   "source": [
    "import os\n",
    "def bsg_solve(L,W,H,boxes,id2box, time=1):\n",
    "    filename=\"tmp_instance_\"+ str(random.randint(10000, 99999))\n",
    "    \n",
    "    write_instance(L,W,H,boxes,filename)\n",
    "    from scp import SCPClient\n",
    "    scp = SCPClient(ssh.get_transport())\n",
    "    scp.put(filename, \"/home/iaraya/clp/\"+filename)\n",
    "\n",
    "    stdin, stdout, stderr = ssh.exec_command(\"/home/iaraya/clp/BSG_CLP /home/iaraya/clp/\"+filename+\" -i 0 -t \"+str(time)+\" --json\")\n",
    "    lines = stdout.readlines()\n",
    "    print(lines[-1])\n",
    "    json_data = json.loads(lines[-1])\n",
    "    \n",
    "    loaded={}; remaining={}\n",
    "    for item in json_data[\"loaded\"]:\n",
    "        loaded[id2box[item[0]]]=item[1]\n",
    "    for item in json_data[\"remaining\"]:\n",
    "        remaining[id2box[item[0]]]=item[1]\n",
    "        \n",
    "    ssh.exec_command(\"rm /home/iaraya/clp/\"+filename)\n",
    "\n",
    "    os.remove(filename)\n",
    "    return loaded, remaining, json_data[\"utilization\"]\n"
   ]
  },
  {
   "cell_type": "code",
   "execution_count": 130,
   "metadata": {},
   "outputs": [],
   "source": [
    "def load_BRinstance(filename, inst=1):\n",
    "    boxes={}; id2box={}\n",
    "    with open(filename) as f:\n",
    "        n = int(next(f))\n",
    "        for i in range(n):\n",
    "            next(f)\n",
    "            L, W, H =  [int(x) for x in next(f).split()]\n",
    "            n_boxes = int(next(f))\n",
    "            for it in range(n_boxes):\n",
    "                id, l, rotx, w, roty, h, rotz, nn = [int(x) for x in next(f).split()] \n",
    "                if i == inst-1:\n",
    "                    b = box(id, l, w, h, rotx, roty, rotz)\n",
    "                    boxes[b]=nn;\n",
    "                    id2box[id]=b\n",
    "            if i == inst-1: return L,W,H,boxes,id2box"
   ]
  },
  {
   "cell_type": "markdown",
   "metadata": {},
   "source": [
    "### Ejemplo usando instancia BR"
   ]
  },
  {
   "cell_type": "code",
   "execution_count": 131,
   "metadata": {},
   "outputs": [
    {
     "name": "stdout",
     "output_type": "stream",
     "text": [
      "{\"remaining\" :[[5,1],[7,1],[9,1],[20,2],[25,1],[28,1],[29,1]], \"loaded\" :[[1,2],[2,4],[3,5],[4,5],[5,6],[6,4],[7,6],[8,3],[9,4],[10,3],[11,6],[12,4],[13,5],[14,4],[15,2],[16,3],[17,2],[18,7],[19,4],[20,2],[21,2],[22,3],[23,7],[24,6],[25,9],[26,4],[27,4],[28,3],[29,3],[30,7]], \"utilization\" : 0.94444486}\n",
      "\n"
     ]
    }
   ],
   "source": [
    "L,W,H,boxes,id2box = load_BRinstance(\"BR8.txt\",3)\n",
    "remaining, loaded, utilization = bsg_solve(L,W,H,boxes,id2box,time=5)"
   ]
  },
  {
   "cell_type": "markdown",
   "metadata": {},
   "source": [
    "### Ejemplo creando instancia y resolviendo"
   ]
  },
  {
   "cell_type": "code",
   "execution_count": 132,
   "metadata": {},
   "outputs": [
    {
     "name": "stdout",
     "output_type": "stream",
     "text": [
      "{\"remaining\" :[[3,5],[4,4]], \"loaded\" :[[1,5],[2,5],[4,1]], \"utilization\" : 0.557}\n",
      "\n"
     ]
    }
   ],
   "source": [
    "boxes={}\n",
    "b=box(1,10,10,10,1,1,1)\n",
    "boxes[b]=5; id2box[1]=b # 5 cajas de 10x10x10 \n",
    "b=box(2,20,20,20,1,1,1)\n",
    "boxes[b]=5; id2box[2]=b # 5 cajas de 20x20x20 \n",
    "b=box(3,40,40,40,1,1,1)\n",
    "boxes[b]=5; id2box[3]=b # 5 cajas de 40x40x40 \n",
    "b=box(4,80,80,80,1,1,1)\n",
    "boxes[b]=5; id2box[4]=b # 5 cajas de 80x80x80 \n",
    "\n",
    "remaining, loaded, utilization = bsg_solve(100,100,100,boxes,id2box, time=1)"
   ]
  },
  {
   "cell_type": "code",
   "execution_count": null,
   "metadata": {},
   "outputs": [],
   "source": []
  }
 ],
 "metadata": {
  "kernelspec": {
   "display_name": "Python 3",
   "language": "python",
   "name": "python3"
  },
  "language_info": {
   "codemirror_mode": {
    "name": "ipython",
    "version": 3
   },
   "file_extension": ".py",
   "mimetype": "text/x-python",
   "name": "python",
   "nbconvert_exporter": "python",
   "pygments_lexer": "ipython3",
   "version": "3.7.3"
  }
 },
 "nbformat": 4,
 "nbformat_minor": 4
}
