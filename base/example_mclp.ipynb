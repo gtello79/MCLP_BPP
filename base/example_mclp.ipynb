{
 "cells": [
  {
   "cell_type": "markdown",
   "metadata": {},
   "source": [
    "# Conexión por SSH"
   ]
  },
  {
   "source": [
    "Inicializar la conexion ssh\n"
   ],
   "cell_type": "markdown",
   "metadata": {}
  },
  {
   "source": [
    "import paramiko\n",
    "import getpass\n",
    "\n",
    "host = \"158.251.88.197\"\n",
    "port = 22\n",
    "username = \"gonzalo\"\n",
    "password = getpass.getpass()\n",
    "\n",
    "ssh = paramiko.SSHClient()\n",
    "ssh.set_missing_host_key_policy(paramiko.AutoAddPolicy())\n",
    "ssh.connect(host, port, username, password)"
   ],
   "cell_type": "code",
   "metadata": {},
   "execution_count": 4,
   "outputs": []
  },
  {
   "source": [
    "`loadBoxes(path,instance)`\n",
    "--\n",
    "Se carga las cajas de una instancia"
   ],
   "cell_type": "markdown",
   "metadata": {}
  },
  {
   "cell_type": "code",
   "execution_count": 2,
   "metadata": {
    "tags": []
   },
   "outputs": [],
   "source": [
    "import numpy as np\n",
    "\n",
    "dimBox = dict()\n",
    "vol = dict()\n",
    "volBin = dict() #Volumen de cada bin\n",
    "\n",
    "def loadBoxes(idClass, boxSize, idInstance):\n",
    "    boxesinfo = []\n",
    "    binDim = []\n",
    "    filePath = '../benchs/class'+str(idClass)+'/'+str(boxSize)+'.txt'\n",
    "    boxesFile = open(filePath,'r')\n",
    "    instanceIndex = -1\n",
    "    countBox = 0\n",
    "    totalBox = 0\n",
    "    #Lectura del archivo\n",
    "    for line in boxesFile.readlines():\n",
    "        info = line.strip().split()\n",
    "        \n",
    "        if(instanceIndex < idInstance and len(info) == 4):\n",
    "            instanceIndex+=1\n",
    "            totalBox = int(info[0])\n",
    "        \n",
    "        elif(instanceIndex == idInstance):\n",
    "            #La instancia que se esta buscando\n",
    "            if(len(info) == 4):\n",
    "                instanceIndex+=1\n",
    "                totalBox = int(info[0])\n",
    "                binDim = [int(info[i]) for i in range(1, len(info))]\n",
    "                binDim = np.array(binDim)\n",
    "            \n",
    "            elif(len(info) == 3 and countBox < totalBox):\n",
    "                countBox+=1    \n",
    "                b = np.array([int(info[i]) for i in range(0, len(info))])\n",
    "                b.sort()\n",
    "                boxesinfo.append(b)\n",
    "\n",
    "    countBox = 0\n",
    "    for boxSize in boxesinfo:\n",
    "        dimBox[countBox] = np.array(boxSize)\n",
    "        countBox +=1\n"
   ]
  },
  {
   "cell_type": "markdown",
   "metadata": {},
   "source": [
    "Implementé un *servidor MCLP*, el cual escucha instrucciones para generar bins.\n",
    "\n",
    "El siguiente código lanza el servidor en el background, carga una instancia y lo deja escuchando peticiones por el puerto 8080"
   ]
  },
  {
   "cell_type": "code",
   "execution_count": 5,
   "metadata": {},
   "outputs": [],
   "source": [
    "def loadInstance(idClass=1, boxSize=100, idInstance=0, port=8060):\n",
    "    transport = ssh.get_transport()\n",
    "    channel = transport.open_session()\n",
    "    loadBoxes(idClass, boxSize, idInstance)\n",
    "    channel.exec_command(\"killall BASIC_BSG_MCLP; ./mclp/Metasolver/BASIC_BSG_MCLP mclp/Metasolver/problems/mclp/benchs/class\"+ \\\n",
    "                         str(idClass)+\"/\"+str(boxSize)+\".txt -i \"+str(idInstance)+\" --port=\"+str(port))\n",
    "    return dimBox, channel\n",
    "\n",
    "boxes, channel = loadInstance(1,100,0,port)   "
   ]
  },
  {
   "cell_type": "markdown",
   "metadata": {},
   "source": [
    "Para cerrar el servidor MCLP"
   ]
  },
  {
   "cell_type": "code",
   "execution_count": 6,
   "metadata": {},
   "outputs": [],
   "source": [
    "def close_mclp_server(port=8060):\n",
    "    stdin, stdout, stderr = ssh.exec_command(\"echo END | netcat localhost \"+str(port))\n",
    "    print(stdout.readlines()[0])\n",
    "    "
   ]
  },
  {
   "source": [
    "# Multiple Container Loading Problem"
   ],
   "cell_type": "markdown",
   "metadata": {}
  },
  {
   "cell_type": "code",
   "execution_count": 15,
   "metadata": {
    "tags": []
   },
   "outputs": [
    {
     "output_type": "stream",
     "name": "stdout",
     "text": [
      "Solución inicial: 24\nITERACION 0\n"
     ]
    },
    {
     "output_type": "error",
     "ename": "NameError",
     "evalue": "name 'reduceBins' is not defined",
     "traceback": [
      "\u001b[1;31m---------------------------------------------------------------------------\u001b[0m",
      "\u001b[1;31mNameError\u001b[0m                                 Traceback (most recent call last)",
      "\u001b[1;32m<ipython-input-15-0d4b0e438900>\u001b[0m in \u001b[0;36m<module>\u001b[1;34m\u001b[0m\n\u001b[0;32m     13\u001b[0m \u001b[1;32mglobal\u001b[0m \u001b[0mchannel\u001b[0m\u001b[1;33m\u001b[0m\u001b[1;33m\u001b[0m\u001b[0m\n\u001b[0;32m     14\u001b[0m \u001b[1;33m\u001b[0m\u001b[0m\n\u001b[1;32m---> 15\u001b[1;33m \u001b[0mi\u001b[0m \u001b[1;33m=\u001b[0m \u001b[0mmclp\u001b[0m\u001b[1;33m(\u001b[0m\u001b[0midClass\u001b[0m\u001b[1;33m,\u001b[0m \u001b[0midInstance\u001b[0m\u001b[1;33m,\u001b[0m \u001b[0mboxSize\u001b[0m\u001b[1;33m)\u001b[0m\u001b[1;33m\u001b[0m\u001b[1;33m\u001b[0m\u001b[0m\n\u001b[0m",
      "\u001b[1;32m<ipython-input-15-0d4b0e438900>\u001b[0m in \u001b[0;36mmclp\u001b[1;34m(idClass, idInstance, boxSize, port)\u001b[0m\n\u001b[0;32m      3\u001b[0m     \u001b[0mswapIter\u001b[0m \u001b[1;33m=\u001b[0m \u001b[1;36m10\u001b[0m\u001b[1;33m\u001b[0m\u001b[1;33m\u001b[0m\u001b[0m\n\u001b[0;32m      4\u001b[0m     \u001b[0m___\u001b[0m\u001b[1;33m,\u001b[0m \u001b[0mchannel\u001b[0m \u001b[1;33m=\u001b[0m \u001b[0mloadInstance\u001b[0m\u001b[1;33m(\u001b[0m\u001b[0midClass\u001b[0m\u001b[1;33m,\u001b[0m\u001b[0mboxSize\u001b[0m\u001b[1;33m,\u001b[0m \u001b[0midInstance\u001b[0m\u001b[1;33m,\u001b[0m\u001b[0mport\u001b[0m\u001b[1;33m)\u001b[0m\u001b[1;33m\u001b[0m\u001b[1;33m\u001b[0m\u001b[0m\n\u001b[1;32m----> 5\u001b[1;33m     \u001b[0mbins\u001b[0m \u001b[1;33m=\u001b[0m \u001b[0msolve\u001b[0m\u001b[1;33m(\u001b[0m\u001b[0mswapIter\u001b[0m\u001b[1;33m)\u001b[0m\u001b[1;33m\u001b[0m\u001b[1;33m\u001b[0m\u001b[0m\n\u001b[0m\u001b[0;32m      6\u001b[0m     \u001b[1;32mreturn\u001b[0m \u001b[0mlen\u001b[0m\u001b[1;33m(\u001b[0m\u001b[0mbins\u001b[0m\u001b[1;33m)\u001b[0m\u001b[1;33m\u001b[0m\u001b[1;33m\u001b[0m\u001b[0m\n\u001b[0;32m      7\u001b[0m \u001b[1;33m\u001b[0m\u001b[0m\n",
      "\u001b[1;32m<ipython-input-8-8774e071e6c9>\u001b[0m in \u001b[0;36msolve\u001b[1;34m(swapIter)\u001b[0m\n\u001b[0;32m     12\u001b[0m         \u001b[0mprint\u001b[0m\u001b[1;33m(\u001b[0m\u001b[1;34m\"ITERACION \"\u001b[0m\u001b[1;33m+\u001b[0m\u001b[0mstr\u001b[0m\u001b[1;33m(\u001b[0m\u001b[0mi\u001b[0m\u001b[1;33m)\u001b[0m\u001b[1;33m)\u001b[0m\u001b[1;33m\u001b[0m\u001b[1;33m\u001b[0m\u001b[0m\n\u001b[0;32m     13\u001b[0m         \u001b[0mtoReduce\u001b[0m\u001b[1;33m,\u001b[0m \u001b[0mbins\u001b[0m \u001b[1;33m=\u001b[0m \u001b[0mpopRandomBin\u001b[0m\u001b[1;33m(\u001b[0m\u001b[0mbins\u001b[0m\u001b[1;33m)\u001b[0m\u001b[1;33m\u001b[0m\u001b[1;33m\u001b[0m\u001b[0m\n\u001b[1;32m---> 14\u001b[1;33m         \u001b[0mbins\u001b[0m \u001b[1;33m=\u001b[0m \u001b[0mreduceBins\u001b[0m\u001b[1;33m(\u001b[0m\u001b[0mbins\u001b[0m\u001b[1;33m,\u001b[0m \u001b[0mtoReduce\u001b[0m\u001b[1;33m)\u001b[0m\u001b[1;33m\u001b[0m\u001b[1;33m\u001b[0m\u001b[0m\n\u001b[0m\u001b[0;32m     15\u001b[0m \u001b[1;33m\u001b[0m\u001b[0m\n\u001b[0;32m     16\u001b[0m     \u001b[0mprint\u001b[0m\u001b[1;33m(\u001b[0m\u001b[1;34m\"Solución final: \"\u001b[0m \u001b[1;33m+\u001b[0m \u001b[0mstr\u001b[0m\u001b[1;33m(\u001b[0m\u001b[0mlen\u001b[0m\u001b[1;33m(\u001b[0m\u001b[0mbins\u001b[0m\u001b[1;33m)\u001b[0m\u001b[1;33m)\u001b[0m\u001b[1;33m)\u001b[0m\u001b[1;33m\u001b[0m\u001b[1;33m\u001b[0m\u001b[0m\n",
      "\u001b[1;31mNameError\u001b[0m: name 'reduceBins' is not defined"
     ]
    }
   ],
   "source": [
    "def mclp(idClass, idInstance, boxSize, port=8060):\n",
    "    global channel\n",
    "    swapIter = 10\n",
    "    ___, channel = loadInstance(idClass,boxSize, idInstance,port)\n",
    "    bins = solve(swapIter)\n",
    "    return len(bins)\n",
    "\n",
    "## VARIABLES GLOBALES\n",
    "idClass = 1\n",
    "boxSize = 100\n",
    "idInstance = 0\n",
    "port = 8060\n",
    "global channel\n",
    "\n",
    "i = mclp(idClass, idInstance, boxSize)"
   ]
  },
  {
   "source": [
    "# Metodos implementados\n",
    "\n",
    "### Métodos de BPP\n"
   ],
   "cell_type": "markdown",
   "metadata": {}
  },
  {
   "cell_type": "code",
   "execution_count": 8,
   "metadata": {},
   "outputs": [],
   "source": [
    "def solve(swapIter):\n",
    "    cantBoxes = len(dimBox)\n",
    "    totalBoxes = boxes\n",
    "    \n",
    "    #Llamada a BSG\n",
    "    bins = generate_bins()\n",
    "    \n",
    "    firstSol = len(bins)\n",
    "    print(\"Solución inicial: \" + str(firstSol))\n",
    "\n",
    "    for i in range(swapIter):\n",
    "        print(\"ITERACION \"+str(i))\n",
    "        toReduce, bins = popRandomBin(bins) \n",
    "        bins = reduceBins(bins, toReduce)\n",
    "    \n",
    "    print(\"Solución final: \" + str(len(bins)))\n",
    "    return len(bins)\n"
   ]
  },
  {
   "cell_type": "markdown",
   "metadata": {},
   "source": [
    "**Generación de conjunto inicial de bins con BSG**\n",
    "\n",
    "La siguiente función genera la lista inicial de bins. Cada línea representa un bin indicando el porcentaje de llenado y los ids de sus cajas.\n",
    "\n",
    "Es necesario modificarla para que en vez de imprimir el contenido de los bins, retorne una estructura adecuada."
   ]
  },
  {
   "cell_type": "code",
   "execution_count": 9,
   "metadata": {},
   "outputs": [],
   "source": [
    "def generate_bins(port=8060):\n",
    "    #probarlo con distintas instancias\n",
    "    stdin, stdout, stderr = ssh.exec_command(\"echo generate_bins | netcat localhost \"+str(port))\n",
    "    flag = False\n",
    "    bins = []\n",
    "    count = 0\n",
    "    for line in stdout.readlines():\n",
    "        if \"BINS:\" in line: \n",
    "            flag = True\n",
    "            continue\n",
    "        if flag:    \n",
    "            #Modificar igual que generate_bin\n",
    "            line = line.strip().split()\n",
    "            vol = float(line[0]) #Porcentaje de llenado del bin\n",
    "            newBin = np.array([int(line[x]) for x in range(1,len(line))])\n",
    "            #calcular el volumen\n",
    "            bins.append(newBin)\n",
    "            volBin[count] = newBin\n",
    "            count +=1\n",
    "    #recordar forma del arreglo        \n",
    "    return bins"
   ]
  },
  {
   "cell_type": "markdown",
   "metadata": {},
   "source": [
    "**Construcción de bin priorizando cajas (BSG)**"
   ]
  },
  {
   "cell_type": "code",
   "execution_count": 10,
   "metadata": {},
   "outputs": [
    {
     "output_type": "stream",
     "name": "stdout",
     "text": [
      "Conjunto de cajas establecido\n[1 4 5 8]\n"
     ]
    }
   ],
   "source": [
    "import paramiko\n",
    "import getpass\n",
    "import numpy as np\n",
    "\n",
    "def generate_bin(boxes, new_box, port=8060):\n",
    "    global channel\n",
    "    index = 0\n",
    "    leftboxes = []\n",
    "    newBin = []\n",
    "    boxes = np.insert(boxes, 1, new_box)\n",
    "    boxes_str = [str(box) for box in boxes]\n",
    "    pboxes_str = str(new_box)\n",
    "    \n",
    "    stdin, stdout, stderr = ssh.exec_command(\"echo generate_bin \" + \" \".join(boxes_str) + \" -1 \" + pboxes_str +  \" -2 | netcat localhost \"+str(port))\n",
    "    lines = stdout.readlines()\n",
    "\n",
    "    while( len(lines) == 0 ):\n",
    "        \n",
    "        ___, channel = loadInstance(idClass, boxSize, idInstance, port)\n",
    "        stdin, stdout, stderr = ssh.exec_command(\"echo generate_bin \" + \" \".join(boxes_str) + \" -1 \" + pboxes_str +  \" -2 | netcat localhost \"+str(port))\n",
    "        lines = stdout.readlines()\n",
    "    \n",
    "    print(\"Conjunto de cajas establecido\")\n",
    "    \n",
    "    for line in lines: \n",
    "        #ajustar linea para almacenar los conjuntos de cajas\n",
    "        line = line.strip().split()\n",
    "        \n",
    "        if(index == 0):\n",
    "            #primera linea boxes \n",
    "            percent = float(line.pop(0))\n",
    "            newBin = np.array([int(x) for x in line])            \n",
    "        else:\n",
    "            #segunda linea left boxes\n",
    "            leftboxes = np.array([int(x) for x in line])\n",
    "        index+=1\n",
    "\n",
    "    return newBin, leftboxes\n",
    "\n",
    "testBin, testLeft = generate_bin([1,2,3,4,5],8)\n",
    "print(testBin)"
   ]
  },
  {
   "cell_type": "markdown",
   "metadata": {},
   "source": [
    "Faltaría:\n",
    "\n",
    "* Cargar la instancia en python (cajas con sus dimensiones) (Listo)\n",
    "* Implementar algoritmo. (Listo)\n",
    "\n",
    "A grandes rasgos el algoritmo hace los siguiente:\n",
    "1. Generación de bins iniciales usando **BSG**\n",
    "2. Selección de bin a desarmar y almacenar cajas en $C$\n",
    "3. Mientras $C$ no quede vacío o máximo de iteraciones:\n",
    "\n",
    "   1. Seleccionar caja $c$ de $C$\n",
    "   2. Seleccionar bin de destino $B$\n",
    "   3. Usar **BSG** para generar bin $B'$ usando cajas $B \\cup \\{c\\}$, priorizando $c$. Es posible que **BSG** retorne conjunto de cajas residuales $R$\n",
    "   4. Si $R$ es mejor que $c$, $B$ se reemplaza por $B'$ en el conjunto de bins y $C \\gets C \\cup R$\n",
    "   \n",
    " 4. Volver a 2 (seleccionar otro bin para desarmar)"
   ]
  },
  {
   "cell_type": "code",
   "execution_count": 16,
   "metadata": {},
   "outputs": [],
   "source": [
    "import copy as cp\n",
    "\n",
    "def reduceBins(bins, toReduce):\n",
    "\n",
    "    lastBins = cp.deepcopy(bins)\n",
    "    breakedBin = toReduce\n",
    "    iterator = 0\n",
    "\n",
    "    while(len(breakedBin) == 0 or iterator < 5):\n",
    "        \n",
    "        #Se hace pop a un bin dentro del universo de bins\n",
    "        pivBin, bins = popRandomBin(bins)    \n",
    "\n",
    "        #Se obtiene una caja compleja desde el bin que se desea distribuir\n",
    "        complexBox, evalComplexBox = getMostComplexBox(breakedBin)\n",
    "        \n",
    "        #Metodo de llamada al BSG\n",
    "        boxes, leftBoxes = generate_bin(pivBin, complexBox)\n",
    "        \n",
    "        #Se calcula la complejidad de la caja más compleja\n",
    "        dimComplexBox = dimBox[complexBox]\n",
    "        \n",
    "        evalComplexBox = calculateComplex(complexBox, dimComplexBox)\n",
    "\n",
    "        if( getMostComplexBox(leftBoxes)[1] < evalComplexBox and vol(leftBoxes) <= vol([complexBox]) ):\n",
    "            \n",
    "            #Se inserta el nuevo bin dentro del conjunto de bins\n",
    "            bins.append(boxes)\n",
    "            \n",
    "            #Se elimina (desde el conjunto de cajas a repartir) la caja insertada en el nuevo bin \n",
    "            index = np.where(breakedBin == complexBox)\n",
    "            breakedBin = np.delete(breakedBin, index[0])\n",
    "            \n",
    "            #Se agregan las cajas que se cambiaron\n",
    "            breakedBin = np.concatenate((leftBoxes, breakedBin)) \n",
    "            print(\"Cambio aceptado\")\n",
    "        else:\n",
    "            bins.append(pivBin)\n",
    "        iterator+=1\n",
    "            \n",
    "    #Regresar al estado anterior si \n",
    "    if(len(breakedBin) > 0):\n",
    "        return lastBins\n",
    "    #Sino\n",
    "    else: \n",
    "        return bins\n",
    "        "
   ]
  },
  {
   "source": [
    "## Getter - Setter - POP"
   ],
   "cell_type": "markdown",
   "metadata": {}
  },
  {
   "cell_type": "code",
   "execution_count": 11,
   "metadata": {},
   "outputs": [],
   "source": [
    "import random as rand\n",
    "\n",
    "def popRandomBin(bins):\n",
    "    rPos = int(rand.random()*len(bins))\n",
    "    theBin = bins.pop(rPos)\n",
    "    return theBin, bins\n"
   ]
  },
  {
   "cell_type": "code",
   "execution_count": 12,
   "metadata": {},
   "outputs": [],
   "source": [
    "def getMostComplexBox(bin):\n",
    "    idBox = []\n",
    "    eval = 0\n",
    "    \n",
    "    for b in bin:\n",
    "        boxShape = dimBox[b] #Cargar instancia\n",
    "        currentEval = calculateComplex(b,boxShape)    \n",
    "        if (idBox is None):\n",
    "            idBox = [b]\n",
    "            eval = currentEval\n",
    "        else:\n",
    "            if(currentEval > eval):\n",
    "                idBox = [b]\n",
    "                eval = currentEval\n",
    "    return idBox, eval"
   ]
  },
  {
   "source": [
    "## Extras "
   ],
   "cell_type": "markdown",
   "metadata": {}
  },
  {
   "cell_type": "code",
   "execution_count": 13,
   "metadata": {},
   "outputs": [],
   "source": [
    "def calculateComplex(idBox, dim):\n",
    "    #Revisar metodo sort\n",
    "    x,y,z = dim\n",
    "    expo = 1\n",
    "    vol = x*y*z\n",
    "\n",
    "    return ( ( (x/z)*(x/y)*(y/z) )**expo ) * vol"
   ]
  },
  {
   "cell_type": "code",
   "execution_count": 14,
   "metadata": {},
   "outputs": [
    {
     "output_type": "stream",
     "name": "stdout",
     "text": [
      "783017\n"
     ]
    }
   ],
   "source": [
    "def vol(listBoxes):\n",
    "    totalVol = 0\n",
    "    for box in listBoxes:\n",
    "        x,y,z = dimBox[box]\n",
    "        totalVol += x*y*z\n",
    "    return totalVol\n",
    "\n",
    "testBin = [14,5,1,3]\n",
    "print(vol(testBin))"
   ]
  },
  {
   "cell_type": "code",
   "execution_count": null,
   "metadata": {},
   "outputs": [],
   "source": []
  }
 ],
 "metadata": {
  "kernelspec": {
   "display_name": "Python 3",
   "language": "python",
   "name": "python3"
  },
  "language_info": {
   "codemirror_mode": {
    "name": "ipython",
    "version": 3
   },
   "file_extension": ".py",
   "mimetype": "text/x-python",
   "name": "python",
   "nbconvert_exporter": "python",
   "pygments_lexer": "ipython3",
   "version": "3.8.3-final"
  }
 },
 "nbformat": 4,
 "nbformat_minor": 4
}