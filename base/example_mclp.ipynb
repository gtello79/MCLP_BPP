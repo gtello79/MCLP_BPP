{
 "cells": [
  {
   "cell_type": "markdown",
   "metadata": {},
   "source": [
    "Conexión por SSH\n",
    "=="
   ]
  },
  {
   "cell_type": "code",
   "execution_count": 5,
   "metadata": {},
   "outputs": [
    {
     "output_type": "error",
     "ename": "AuthenticationException",
     "evalue": "Authentication failed.",
     "traceback": [
      "\u001b[1;31m---------------------------------------------------------------------------\u001b[0m",
      "\u001b[1;31mAuthenticationException\u001b[0m                   Traceback (most recent call last)",
      "\u001b[1;32m<ipython-input-5-967c0dc7547d>\u001b[0m in \u001b[0;36m<module>\u001b[1;34m\u001b[0m\n\u001b[0;32m      9\u001b[0m \u001b[0mssh\u001b[0m \u001b[1;33m=\u001b[0m \u001b[0mparamiko\u001b[0m\u001b[1;33m.\u001b[0m\u001b[0mSSHClient\u001b[0m\u001b[1;33m(\u001b[0m\u001b[1;33m)\u001b[0m\u001b[1;33m\u001b[0m\u001b[1;33m\u001b[0m\u001b[0m\n\u001b[0;32m     10\u001b[0m \u001b[0mssh\u001b[0m\u001b[1;33m.\u001b[0m\u001b[0mset_missing_host_key_policy\u001b[0m\u001b[1;33m(\u001b[0m\u001b[0mparamiko\u001b[0m\u001b[1;33m.\u001b[0m\u001b[0mAutoAddPolicy\u001b[0m\u001b[1;33m(\u001b[0m\u001b[1;33m)\u001b[0m\u001b[1;33m)\u001b[0m\u001b[1;33m\u001b[0m\u001b[1;33m\u001b[0m\u001b[0m\n\u001b[1;32m---> 11\u001b[1;33m \u001b[0mssh\u001b[0m\u001b[1;33m.\u001b[0m\u001b[0mconnect\u001b[0m\u001b[1;33m(\u001b[0m\u001b[0mhost\u001b[0m\u001b[1;33m,\u001b[0m \u001b[0mport\u001b[0m\u001b[1;33m,\u001b[0m \u001b[0musername\u001b[0m\u001b[1;33m,\u001b[0m \u001b[0mpassword\u001b[0m\u001b[1;33m)\u001b[0m\u001b[1;33m\u001b[0m\u001b[1;33m\u001b[0m\u001b[0m\n\u001b[0m",
      "\u001b[1;32mC:\\ProgramData\\Anaconda3\\lib\\site-packages\\paramiko\\client.py\u001b[0m in \u001b[0;36mconnect\u001b[1;34m(self, hostname, port, username, password, pkey, key_filename, timeout, allow_agent, look_for_keys, compress, sock, gss_auth, gss_kex, gss_deleg_creds, gss_host, banner_timeout, auth_timeout, gss_trust_dns, passphrase, disabled_algorithms)\u001b[0m\n\u001b[0;32m    433\u001b[0m             \u001b[0mkey_filenames\u001b[0m \u001b[1;33m=\u001b[0m \u001b[0mkey_filename\u001b[0m\u001b[1;33m\u001b[0m\u001b[1;33m\u001b[0m\u001b[0m\n\u001b[0;32m    434\u001b[0m \u001b[1;33m\u001b[0m\u001b[0m\n\u001b[1;32m--> 435\u001b[1;33m         self._auth(\n\u001b[0m\u001b[0;32m    436\u001b[0m             \u001b[0musername\u001b[0m\u001b[1;33m,\u001b[0m\u001b[1;33m\u001b[0m\u001b[1;33m\u001b[0m\u001b[0m\n\u001b[0;32m    437\u001b[0m             \u001b[0mpassword\u001b[0m\u001b[1;33m,\u001b[0m\u001b[1;33m\u001b[0m\u001b[1;33m\u001b[0m\u001b[0m\n",
      "\u001b[1;32mC:\\ProgramData\\Anaconda3\\lib\\site-packages\\paramiko\\client.py\u001b[0m in \u001b[0;36m_auth\u001b[1;34m(self, username, password, pkey, key_filenames, allow_agent, look_for_keys, gss_auth, gss_kex, gss_deleg_creds, gss_host, passphrase)\u001b[0m\n\u001b[0;32m    762\u001b[0m         \u001b[1;31m# if we got an auth-failed exception earlier, re-raise it\u001b[0m\u001b[1;33m\u001b[0m\u001b[1;33m\u001b[0m\u001b[1;33m\u001b[0m\u001b[0m\n\u001b[0;32m    763\u001b[0m         \u001b[1;32mif\u001b[0m \u001b[0msaved_exception\u001b[0m \u001b[1;32mis\u001b[0m \u001b[1;32mnot\u001b[0m \u001b[1;32mNone\u001b[0m\u001b[1;33m:\u001b[0m\u001b[1;33m\u001b[0m\u001b[1;33m\u001b[0m\u001b[0m\n\u001b[1;32m--> 764\u001b[1;33m             \u001b[1;32mraise\u001b[0m \u001b[0msaved_exception\u001b[0m\u001b[1;33m\u001b[0m\u001b[1;33m\u001b[0m\u001b[0m\n\u001b[0m\u001b[0;32m    765\u001b[0m         \u001b[1;32mraise\u001b[0m \u001b[0mSSHException\u001b[0m\u001b[1;33m(\u001b[0m\u001b[1;34m\"No authentication methods available\"\u001b[0m\u001b[1;33m)\u001b[0m\u001b[1;33m\u001b[0m\u001b[1;33m\u001b[0m\u001b[0m\n\u001b[0;32m    766\u001b[0m \u001b[1;33m\u001b[0m\u001b[0m\n",
      "\u001b[1;32mC:\\ProgramData\\Anaconda3\\lib\\site-packages\\paramiko\\client.py\u001b[0m in \u001b[0;36m_auth\u001b[1;34m(self, username, password, pkey, key_filenames, allow_agent, look_for_keys, gss_auth, gss_kex, gss_deleg_creds, gss_host, passphrase)\u001b[0m\n\u001b[0;32m    749\u001b[0m         \u001b[1;32mif\u001b[0m \u001b[0mpassword\u001b[0m \u001b[1;32mis\u001b[0m \u001b[1;32mnot\u001b[0m \u001b[1;32mNone\u001b[0m\u001b[1;33m:\u001b[0m\u001b[1;33m\u001b[0m\u001b[1;33m\u001b[0m\u001b[0m\n\u001b[0;32m    750\u001b[0m             \u001b[1;32mtry\u001b[0m\u001b[1;33m:\u001b[0m\u001b[1;33m\u001b[0m\u001b[1;33m\u001b[0m\u001b[0m\n\u001b[1;32m--> 751\u001b[1;33m                 \u001b[0mself\u001b[0m\u001b[1;33m.\u001b[0m\u001b[0m_transport\u001b[0m\u001b[1;33m.\u001b[0m\u001b[0mauth_password\u001b[0m\u001b[1;33m(\u001b[0m\u001b[0musername\u001b[0m\u001b[1;33m,\u001b[0m \u001b[0mpassword\u001b[0m\u001b[1;33m)\u001b[0m\u001b[1;33m\u001b[0m\u001b[1;33m\u001b[0m\u001b[0m\n\u001b[0m\u001b[0;32m    752\u001b[0m                 \u001b[1;32mreturn\u001b[0m\u001b[1;33m\u001b[0m\u001b[1;33m\u001b[0m\u001b[0m\n\u001b[0;32m    753\u001b[0m             \u001b[1;32mexcept\u001b[0m \u001b[0mSSHException\u001b[0m \u001b[1;32mas\u001b[0m \u001b[0me\u001b[0m\u001b[1;33m:\u001b[0m\u001b[1;33m\u001b[0m\u001b[1;33m\u001b[0m\u001b[0m\n",
      "\u001b[1;32mC:\\ProgramData\\Anaconda3\\lib\\site-packages\\paramiko\\transport.py\u001b[0m in \u001b[0;36mauth_password\u001b[1;34m(self, username, password, event, fallback)\u001b[0m\n\u001b[0;32m   1507\u001b[0m             \u001b[1;32mreturn\u001b[0m \u001b[1;33m[\u001b[0m\u001b[1;33m]\u001b[0m\u001b[1;33m\u001b[0m\u001b[1;33m\u001b[0m\u001b[0m\n\u001b[0;32m   1508\u001b[0m         \u001b[1;32mtry\u001b[0m\u001b[1;33m:\u001b[0m\u001b[1;33m\u001b[0m\u001b[1;33m\u001b[0m\u001b[0m\n\u001b[1;32m-> 1509\u001b[1;33m             \u001b[1;32mreturn\u001b[0m \u001b[0mself\u001b[0m\u001b[1;33m.\u001b[0m\u001b[0mauth_handler\u001b[0m\u001b[1;33m.\u001b[0m\u001b[0mwait_for_response\u001b[0m\u001b[1;33m(\u001b[0m\u001b[0mmy_event\u001b[0m\u001b[1;33m)\u001b[0m\u001b[1;33m\u001b[0m\u001b[1;33m\u001b[0m\u001b[0m\n\u001b[0m\u001b[0;32m   1510\u001b[0m         \u001b[1;32mexcept\u001b[0m \u001b[0mBadAuthenticationType\u001b[0m \u001b[1;32mas\u001b[0m \u001b[0me\u001b[0m\u001b[1;33m:\u001b[0m\u001b[1;33m\u001b[0m\u001b[1;33m\u001b[0m\u001b[0m\n\u001b[0;32m   1511\u001b[0m             \u001b[1;31m# if password auth isn't allowed, but keyboard-interactive *is*,\u001b[0m\u001b[1;33m\u001b[0m\u001b[1;33m\u001b[0m\u001b[1;33m\u001b[0m\u001b[0m\n",
      "\u001b[1;32mC:\\ProgramData\\Anaconda3\\lib\\site-packages\\paramiko\\auth_handler.py\u001b[0m in \u001b[0;36mwait_for_response\u001b[1;34m(self, event)\u001b[0m\n\u001b[0;32m    248\u001b[0m             \u001b[1;32mif\u001b[0m \u001b[0missubclass\u001b[0m\u001b[1;33m(\u001b[0m\u001b[0me\u001b[0m\u001b[1;33m.\u001b[0m\u001b[0m__class__\u001b[0m\u001b[1;33m,\u001b[0m \u001b[0mPartialAuthentication\u001b[0m\u001b[1;33m)\u001b[0m\u001b[1;33m:\u001b[0m\u001b[1;33m\u001b[0m\u001b[1;33m\u001b[0m\u001b[0m\n\u001b[0;32m    249\u001b[0m                 \u001b[1;32mreturn\u001b[0m \u001b[0me\u001b[0m\u001b[1;33m.\u001b[0m\u001b[0mallowed_types\u001b[0m\u001b[1;33m\u001b[0m\u001b[1;33m\u001b[0m\u001b[0m\n\u001b[1;32m--> 250\u001b[1;33m             \u001b[1;32mraise\u001b[0m \u001b[0me\u001b[0m\u001b[1;33m\u001b[0m\u001b[1;33m\u001b[0m\u001b[0m\n\u001b[0m\u001b[0;32m    251\u001b[0m         \u001b[1;32mreturn\u001b[0m \u001b[1;33m[\u001b[0m\u001b[1;33m]\u001b[0m\u001b[1;33m\u001b[0m\u001b[1;33m\u001b[0m\u001b[0m\n\u001b[0;32m    252\u001b[0m \u001b[1;33m\u001b[0m\u001b[0m\n",
      "\u001b[1;31mAuthenticationException\u001b[0m: Authentication failed."
     ]
    }
   ],
   "source": [
    "import paramiko\n",
    "import getpass\n",
    "\n",
    "host = \"158.251.88.197\"\n",
    "port = 22\n",
    "username = \"gonzalo\"\n",
    "password = getpass.getpass()\n",
    "\n",
    "ssh = paramiko.SSHClient()\n",
    "ssh.set_missing_host_key_policy(paramiko.AutoAddPolicy())\n",
    "ssh.connect(host, port, username, password)"
   ]
  },
  {
   "cell_type": "markdown",
   "metadata": {},
   "source": [
    "Ejecución de comandos\n",
    "=="
   ]
  },
  {
   "cell_type": "markdown",
   "metadata": {},
   "source": [
    "Implementé un *servidor MCLP*, el cual escucha instrucciones para generar bins.\n",
    "\n",
    "El siguiente código lanza el servidor en el background, carga una instancia y lo deja escuchando peticiones por el puerto 8080"
   ]
  },
  {
   "cell_type": "code",
   "execution_count": 26,
   "metadata": {},
   "outputs": [],
   "source": [
    "transport = ssh.get_transport()\n",
    "channel = transport.open_session()\n",
    "channel.exec_command(\"./mclp/Metasolver/BASIC_BSG_MCLP mclp/Metasolver/problems/mclp/benchs/class1/100.txt -i 2\")"
   ]
  },
  {
   "cell_type": "markdown",
   "metadata": {},
   "source": [
    "**Generación de conjunto inicial de bins con BSG**\n",
    "\n",
    "La siguiente función genera la lista inicial de bins. Cada línea representa un bin indicando el porcentaje de llenado y los ids de sus cajas.\n",
    "\n",
    "Es necesario modificarla para que en vez de imprimir el contenido de los bins, retorne una estructura adecuada."
   ]
  },
  {
   "cell_type": "code",
   "execution_count": 1,
   "metadata": {},
   "outputs": [
    {
     "output_type": "error",
     "ename": "NameError",
     "evalue": "name 'ssh' is not defined",
     "traceback": [
      "\u001b[1;31m---------------------------------------------------------------------------\u001b[0m",
      "\u001b[1;31mNameError\u001b[0m                                 Traceback (most recent call last)",
      "\u001b[1;32m<ipython-input-1-e4196ca1b099>\u001b[0m in \u001b[0;36m<module>\u001b[1;34m\u001b[0m\n\u001b[0;32m      8\u001b[0m         \u001b[1;32mif\u001b[0m \u001b[0mflag\u001b[0m\u001b[1;33m:\u001b[0m\u001b[1;33m\u001b[0m\u001b[1;33m\u001b[0m\u001b[0m\n\u001b[0;32m      9\u001b[0m             \u001b[0mprint\u001b[0m\u001b[1;33m(\u001b[0m\u001b[0mline\u001b[0m\u001b[1;33m.\u001b[0m\u001b[0mstrip\u001b[0m\u001b[1;33m(\u001b[0m\u001b[1;33m)\u001b[0m\u001b[1;33m)\u001b[0m\u001b[1;33m\u001b[0m\u001b[1;33m\u001b[0m\u001b[0m\n\u001b[1;32m---> 10\u001b[1;33m \u001b[0mgenerate_bins\u001b[0m\u001b[1;33m(\u001b[0m\u001b[1;33m)\u001b[0m\u001b[1;33m\u001b[0m\u001b[1;33m\u001b[0m\u001b[0m\n\u001b[0m",
      "\u001b[1;32m<ipython-input-1-e4196ca1b099>\u001b[0m in \u001b[0;36mgenerate_bins\u001b[1;34m()\u001b[0m\n\u001b[0;32m      1\u001b[0m \u001b[1;32mdef\u001b[0m \u001b[0mgenerate_bins\u001b[0m\u001b[1;33m(\u001b[0m\u001b[1;33m)\u001b[0m\u001b[1;33m:\u001b[0m\u001b[1;33m\u001b[0m\u001b[1;33m\u001b[0m\u001b[0m\n\u001b[1;32m----> 2\u001b[1;33m     \u001b[0mstdin\u001b[0m\u001b[1;33m,\u001b[0m \u001b[0mstdout\u001b[0m\u001b[1;33m,\u001b[0m \u001b[0mstderr\u001b[0m \u001b[1;33m=\u001b[0m \u001b[0mssh\u001b[0m\u001b[1;33m.\u001b[0m\u001b[0mexec_command\u001b[0m\u001b[1;33m(\u001b[0m\u001b[1;34m\"echo generate_bins | netcat localhost 8080\"\u001b[0m\u001b[1;33m)\u001b[0m\u001b[1;33m\u001b[0m\u001b[1;33m\u001b[0m\u001b[0m\n\u001b[0m\u001b[0;32m      3\u001b[0m     \u001b[0mflag\u001b[0m \u001b[1;33m=\u001b[0m \u001b[1;32mFalse\u001b[0m\u001b[1;33m\u001b[0m\u001b[1;33m\u001b[0m\u001b[0m\n\u001b[0;32m      4\u001b[0m     \u001b[1;32mfor\u001b[0m \u001b[0mline\u001b[0m \u001b[1;32min\u001b[0m \u001b[0mstdout\u001b[0m\u001b[1;33m.\u001b[0m\u001b[0mreadlines\u001b[0m\u001b[1;33m(\u001b[0m\u001b[1;33m)\u001b[0m\u001b[1;33m:\u001b[0m\u001b[1;33m\u001b[0m\u001b[1;33m\u001b[0m\u001b[0m\n\u001b[0;32m      5\u001b[0m         \u001b[1;32mif\u001b[0m \u001b[1;34m\"BINS:\"\u001b[0m \u001b[1;32min\u001b[0m \u001b[0mline\u001b[0m\u001b[1;33m:\u001b[0m\u001b[1;33m\u001b[0m\u001b[1;33m\u001b[0m\u001b[0m\n",
      "\u001b[1;31mNameError\u001b[0m: name 'ssh' is not defined"
     ]
    }
   ],
   "source": [
    "def generate_bins():\n",
    "    stdin, stdout, stderr = ssh.exec_command(\"echo generate_bins | netcat localhost 8080\")\n",
    "    flag = False\n",
    "    for line in stdout.readlines():\n",
    "        if \"BINS:\" in line: \n",
    "            flag = True\n",
    "            continue\n",
    "        if flag:\n",
    "            print(line.strip())\n",
    "generate_bins()"
   ]
  },
  {
   "cell_type": "markdown",
   "metadata": {},
   "source": [
    "**Construcción de bin priorizando cajas (BSG)**"
   ]
  },
  {
   "cell_type": "code",
   "execution_count": null,
   "metadata": {
    "collapsed": true,
    "jupyter": {
     "outputs_hidden": true
    }
   },
   "outputs": [],
   "source": [
    "def generate_bin(boxes, priority_boxes):\n",
    "    boxes_str = [str(box) for box in boxes]\n",
    "    pboxes_str = [str(pbox) for pbox in priority_boxes]    \n",
    "    stdin, stdout, stderr = ssh.exec_command(\"echo generate_bin \" + \" \".join(boxes_str) + \" -1 \" + \" \".join(pboxes_str) +  \" -2 | netcat localhost 8080\")\n",
    "    for line in stdout.readlines(): print(line.strip())\n",
    "        \n",
    "generate_bin([0,1,8,53,45],[45])"
   ]
  },
  {
   "cell_type": "markdown",
   "metadata": {},
   "source": [
    "Para cerrar el servidor MCLP"
   ]
  },
  {
   "cell_type": "code",
   "execution_count": null,
   "metadata": {},
   "outputs": [],
   "source": [
    "def close_mclp_server():\n",
    "    stdin, stdout, stderr = ssh.exec_command(\"echo END | netcat localhost 8080\")\n",
    "    print(stdout.readlines()[0])\n",
    "    \n",
    "close_mclp_server()"
   ]
  },
  {
   "cell_type": "markdown",
   "metadata": {},
   "source": [
    "Faltaría:\n",
    "\n",
    "* Cargar la instancia en python (cajas con sus dimensiones)\n",
    "* Implementar algoritmo.\n",
    "\n",
    "A grandes rasgos el algoritmo hace los siguiente:\n",
    "1. Generación de bins iniciales usando **BSG**\n",
    "2. Selección de bin a desarmar y almacenar cajas en $C$\n",
    "3. Mientras $C$ no quede vacío o máximo de iteraciones:\n",
    "\n",
    "   1. Seleccionar caja $c$ de $C$\n",
    "   2. Seleccionar bin de destino $B$\n",
    "   3. Usar **BSG** para generar bin $B'$ usando cajas $B \\cup \\{c\\}$, priorizando $c$. Es posible que **BSG** retorne conjunto de cajas residuales $R$\n",
    "   4. Si $R$ es mejor que $c$, $B$ se reemplaza por $B'$ en el conjunto de bins y $C \\gets C \\cup R$\n",
    "   \n",
    " 4. Volver a 2 (seleccionar otro bin para desarmar)"
   ]
  },
  {
   "cell_type": "code",
   "execution_count": 6,
   "metadata": {},
   "outputs": [],
   "source": [
    "def solve(solver, s0, swapIter):\n",
    "    cantBoxes = s0.nbLeftBoxes\n",
    "    maxVolBin = s0.getContVol\n",
    "    boxes = set()\n",
    "    bestBins = None\n",
    "    bins = None\n",
    "\n",
    "    for box in s0.boxes:\n",
    "        boxes.add(box)\n",
    "    \n",
    "    #Llamada a BSG\n",
    "    bins = generador()\n",
    "    \n",
    "    firstSol = len(bins)\n",
    "    for i in range(swapIter):\n",
    "        swapBoxes(bins, maxVolBin)\n",
    "    \n",
    "    return len(bins)\n"
   ]
  },
  {
   "cell_type": "code",
   "execution_count": null,
   "metadata": {},
   "outputs": [],
   "source": [
    "def swapBoxes(bins, maxVolVin):\n",
    "    breakedBin = bins.pop()\n",
    "    \n",
    "    while(len(breakedBin) == 0 or iter <100):\n",
    "        pivBin = bins.pop()\n",
    "        priorityBox = set()\n",
    "\n",
    "        complexBox = getComplexBox(breakedBin)\n",
    "        priorityBox.add(complexBox)\n",
    "        pivBin.add(complexBox)\n",
    "\n",
    "        #Metodo de llamada al BSG\n",
    "        boxes = generador()\n",
    "\n",
    "        #Se verifica la si el cambio es coherente o no\n",
    "        if(accordChange(pivBin, boxes[0], priorityBox, boxes[1])):\n",
    "            #Se inserta el nuevo bin dentro del conjunto de bins\n",
    "            bins.add(boxes[0])\n",
    "            #Se elimina (desde el conjunto de cajas a repartir) la caja insertada en el nuevo bin \n",
    "            breakedBin.remove(complexBox)\n",
    "           \n",
    "            #Se agregan las cajas que se cambiaron\n",
    "            if(len(boxes[1]) > 0 ):\n",
    "                for b in boxes[1]:\n",
    "                    breakedBin.add(b)\n",
    "\n",
    "        else:\n",
    "            pivBin.remove(complexBox)\n",
    "            bins.append(pivBin)\n",
    "\n",
    "    x = generador()\n",
    "    for b in x:\n",
    "        bins.append(b)\n",
    "        "
   ]
  },
  {
   "cell_type": "code",
   "execution_count": null,
   "metadata": {},
   "outputs": [],
   "source": [
    "def calculateComplex(idBox, dim):\n",
    "    x = dim[0]\n",
    "    y = dim[1]\n",
    "    z = dim[2]\n",
    "    f1 = 0\n",
    "    f2 = 0\n",
    "    f3 = 0\n",
    "    expo = 1\n",
    "    vol = x*y*z\n",
    "\n",
    "    if( x > y and x != 0 ):\n",
    "        f1 = y/x\n",
    "    elif( y != 0 ):\n",
    "        f1 = x/y\n",
    "    \n",
    "    if( x > z and x != 0):\n",
    "        f2 = z/x\n",
    "    elif( z != 0):\n",
    "        f2 = x/z\n",
    "\n",
    "    if( z > y and z != 0):\n",
    "        f3 = y/z\n",
    "    elif ( z != 0 ):\n",
    "        f3 = y/z\n",
    "    return ((f1*f2*f3)**expo) * vol"
   ]
  },
  {
   "cell_type": "code",
   "execution_count": null,
   "metadata": {},
   "outputs": [],
   "source": [
    "def acumulateComplex(bin):\n",
    "    aux = 0\n",
    "    boxShape = None\n",
    "    for b in bin:\n",
    "        boxShape = None #Cargar instancia\n",
    "        aux += calculateComplex(v,boxShape)\n",
    "    return aux"
   ]
  },
  {
   "cell_type": "code",
   "execution_count": null,
   "metadata": {},
   "outputs": [],
   "source": [
    "def getComplexBox(bins):\n",
    "    idBox = None\n",
    "    eval = 0\n",
    "    for b in bins:\n",
    "        boxShape = None #Cargar instancia\n",
    "        currentEval = calculateComplex(b,boxShape)    \n",
    "        if (idBox is None):\n",
    "            idBox = b\n",
    "            eval = currentEval\n",
    "        else:\n",
    "            if(currentEval > eval):\n",
    "                idBox = b\n",
    "                eval = currentEval\n",
    "\n",
    "    return idBox"
   ]
  },
  {
   "cell_type": "code",
   "execution_count": null,
   "metadata": {},
   "outputs": [],
   "source": [
    "import random as rand\n",
    "\n",
    "def popRandomBin(bins):\n",
    "    rPos = rand.random()%len(bins)\n",
    "    theBin = bins.pop(rPos)\n",
    "    return theBin"
   ]
  }
 ],
 "metadata": {
  "kernelspec": {
   "display_name": "Python 3",
   "language": "python",
   "name": "python3"
  },
  "language_info": {
   "codemirror_mode": {
    "name": "ipython",
    "version": 3
   },
   "file_extension": ".py",
   "mimetype": "text/x-python",
   "name": "python",
   "nbconvert_exporter": "python",
   "pygments_lexer": "ipython3",
   "version": "3.8.3-final"
  }
 },
 "nbformat": 4,
 "nbformat_minor": 4
}