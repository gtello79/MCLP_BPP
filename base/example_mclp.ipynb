{
 "cells": [
  {
   "source": [
    "# Conexión por SSH"
   ],
   "cell_type": "markdown",
   "metadata": {}
  },
  {
   "cell_type": "code",
   "execution_count": 9,
   "metadata": {},
   "outputs": [],
   "source": [
    "import paramiko\n",
    "import getpass\n",
    "\n",
    "host = \"158.251.88.197\"\n",
    "port = 22\n",
    "username = \"gonzalo\"\n",
    "password = getpass.getpass()\n",
    "\n",
    "ssh = paramiko.SSHClient()\n",
    "ssh.set_missing_host_key_policy(paramiko.AutoAddPolicy())\n",
    "ssh.connect(host, port, username, password)"
   ]
  },
  {
   "cell_type": "markdown",
   "metadata": {},
   "source": [
    "Ejecución de comandos\n",
    "=="
   ]
  },
  {
   "cell_type": "markdown",
   "metadata": {},
   "source": [
    "Implementé un *servidor MCLP*, el cual escucha instrucciones para generar bins.\n",
    "\n",
    "El siguiente código lanza el servidor en el background, carga una instancia y lo deja escuchando peticiones por el puerto 8080"
   ]
  },
  {
   "cell_type": "code",
   "execution_count": 10,
   "metadata": {},
   "outputs": [],
   "source": [
    "transport = ssh.get_transport()\n",
    "channel = transport.open_session()\n",
    "\n",
    "channel.exec_command(\"killall BASIC_BSG_MCLP; ./mclp/Metasolver/BASIC_BSG_MCLP mclp/Metasolver/problems/mclp/benchs/class1/100.txt -i 2\")"
   ]
  },
  {
   "cell_type": "markdown",
   "metadata": {},
   "source": [
    "**Generación de conjunto inicial de bins con BSG**\n",
    "\n",
    "La siguiente función genera la lista inicial de bins. Cada línea representa un bin indicando el porcentaje de llenado y los ids de sus cajas.\n",
    "\n",
    "Es necesario modificarla para que en vez de imprimir el contenido de los bins, retorne una estructura adecuada."
   ]
  },
  {
   "cell_type": "code",
   "execution_count": 11,
   "metadata": {},
   "outputs": [
    {
     "output_type": "stream",
     "name": "stdout",
     "text": [
      "0.6495 0 8 45 53\n0.858 1 12 28 78 85 93\n0.7557 2 61 75\n0.7324 3 19 79\n0.9444 4 41 60 63 82\n0.7073 5 47 59 94\n0.8826 6 11 18 64 84\n0.5461 7 36 57\n0.7696 9 42 92 99\n0.314 10\n0.7782 13 77\n0.4622 14 43\n0.935 15 32 40 51 72 73\n0.8123 16 81 90\n0.8995 17 20 23 38 46 97\n0.5697 21 22\n0.8657 24 30 33 34 39 55\n0.6572 25 29 54\n0.8497 26 37 88\n0.4925 27 96\n0.7205 31 71 91\n0.6375 35 68 80\n0.8015 44 65 66\n0.8811 48 50 70 76\n0.8034 49 67 69 83\n0.5525 52\n0.194 56\n0.5859 58 74\n0.7643 62 95 98\n0.7842 86 87 89\n"
     ]
    }
   ],
   "source": [
    "def generate_bins():\n",
    "    stdin, stdout, stderr = ssh.exec_command(\"echo generate_bins | netcat localhost 8080\")\n",
    "    flag = False\n",
    "    bins = None\n",
    "    for line in stdout.readlines():\n",
    "        if \"BINS:\" in line: \n",
    "            flag = True\n",
    "            continue\n",
    "        if flag:\n",
    "            #Modificar igual que generate_bin\n",
    "            print(line.strip())\n",
    "            \n",
    "    return bins\n",
    "generate_bins()"
   ]
  },
  {
   "cell_type": "markdown",
   "metadata": {},
   "source": [
    "**Construcción de bin priorizando cajas (BSG)**"
   ]
  },
  {
   "cell_type": "code",
   "execution_count": 12,
   "metadata": {
    "collapsed": true,
    "jupyter": {
     "outputs_hidden": true
    }
   },
   "outputs": [
    {
     "output_type": "stream",
     "name": "stdout",
     "text": [
      "0.6659 0 1 45\n8 53\n"
     ]
    }
   ],
   "source": [
    "def generate_bin(boxes, new_box):\n",
    "    leftboxes = None\n",
    "    boxes.append(new_box)\n",
    "    boxes_str = [str(box) for box in boxes]\n",
    "    pboxes_str = [str(pbox) for pbox in priority_boxes]    \n",
    "    stdin, stdout, stderr = ssh.exec_command(\"echo generate_bin \" + \" \".join(boxes_str) + \" -1 \" + \" \".join(pboxes_str) +  \" -2 | netcat localhost 8080\")\n",
    "    for line in stdout.readlines(): \n",
    "        #ajustar linea para almacenar los conjuntos de cajas\n",
    "        print(line.strip())\n",
    "\n",
    "    #primera linea boxes \n",
    "    #segunda linea left boxes\n",
    "    boxes.remove(new_box)\n",
    "    \n",
    "    return boxes, leftboxes\n",
    "\n",
    "bins,  = generate_bin([0,1,8,53,45],[45])"
   ]
  },
  {
   "cell_type": "markdown",
   "metadata": {},
   "source": [
    "Para cerrar el servidor MCLP"
   ]
  },
  {
   "cell_type": "markdown",
   "metadata": {},
   "source": [
    "Faltaría:\n",
    "\n",
    "* Cargar la instancia en python (cajas con sus dimensiones)\n",
    "* Implementar algoritmo.\n",
    "\n",
    "A grandes rasgos el algoritmo hace los siguiente:\n",
    "1. Generación de bins iniciales usando **BSG**\n",
    "2. Selección de bin a desarmar y almacenar cajas en $C$\n",
    "3. Mientras $C$ no quede vacío o máximo de iteraciones:\n",
    "\n",
    "   1. Seleccionar caja $c$ de $C$\n",
    "   2. Seleccionar bin de destino $B$\n",
    "   3. Usar **BSG** para generar bin $B'$ usando cajas $B \\cup \\{c\\}$, priorizando $c$. Es posible que **BSG** retorne conjunto de cajas residuales $R$\n",
    "   4. Si $R$ es mejor que $c$, $B$ se reemplaza por $B'$ en el conjunto de bins y $C \\gets C \\cup R$\n",
    "   \n",
    " 4. Volver a 2 (seleccionar otro bin para desarmar)"
   ]
  },
  {
   "cell_type": "code",
   "execution_count": 14,
   "metadata": {},
   "outputs": [],
   "source": [
    "def solve(solver, s0, swapIter):\n",
    "    cantBoxes = s0.nbLeftBoxes\n",
    "    maxVolBin = s0.getContVol\n",
    "    boxes = set()\n",
    "    bestBins = None\n",
    "    bins = None\n",
    "\n",
    "    for box in s0.boxes:\n",
    "        boxes.add(box)\n",
    "    \n",
    "    #Llamada a BSG\n",
    "    bins = generador()\n",
    "    \n",
    "    firstSol = len(bins)\n",
    "    for i in range(swapIter):\n",
    "        toReduce = 0 #Que haga referencia al indice del bin\n",
    "        bins = reduceBins(bins, toReduce)\n",
    "    \n",
    "    return len(bins)\n"
   ]
  },
  {
   "cell_type": "code",
   "execution_count": 15,
   "metadata": {},
   "outputs": [],
   "source": [
    "import copy as cp\n",
    "\n",
    "def reduceBins(bins, toReduce):\n",
    "\n",
    "    lastBins = cp.deepcopy(bins)\n",
    "    breakedBin = bins.pop(toReduce)\n",
    "\n",
    "    while(len(breakedBin) == 0 or iter <100):\n",
    "\n",
    "        pivBin = bins.popRandomBin()    \n",
    "        complexBox, evalComplexBox = getMostComplexBox(breakedBin)\n",
    "        #Metodo de llamada al BSG\n",
    "        boxes, leftBoxes = generate_bin(pivBin, complexBox)\n",
    "\n",
    "        if( getMostComplexBox(leftBoxes)[1] < evalComplexBox and vol(leftBoxes) <= vol([complexBox]) ):\n",
    "            #Se inserta el nuevo bin dentro del conjunto de bins\n",
    "            bins.append(boxes)\n",
    "            #Se elimina (desde el conjunto de cajas a repartir) la caja insertada en el nuevo bin \n",
    "            breakedBin.remove(complexBox)\n",
    "           \n",
    "            #Se agregan las cajas que se cambiaron\n",
    "            breakedBin += leftBoxes\n",
    "\n",
    "        else:\n",
    "            bins.append(pivBin)\n",
    "    #Regresar al estado anterior si \n",
    "    if(len(breakedBin) > 0)\n",
    "        return lastBins\n",
    "    #Sino\n",
    "    else: \n",
    "        return bins\n",
    "        "
   ]
  },
  {
   "cell_type": "code",
   "execution_count": 16,
   "metadata": {},
   "outputs": [],
   "source": [
    "def calculateComplex(idBox, dim):\n",
    "    #Revisar metodo sort\n",
    "    dim = dim.sort()\n",
    "    x,y,z = dim\n",
    "    expo = 1\n",
    "    vol = x*y*z\n",
    "\n",
    "    return ((x/z)*(x/y)*(y/z))**expo) * vol"
   ]
  },
  {
   "cell_type": "code",
   "execution_count": 17,
   "metadata": {},
   "outputs": [],
   "source": [
    "def getMostComplexBox(bin):\n",
    "    idBox = None\n",
    "    eval = 0\n",
    "    for b in bin:\n",
    "        boxShape = None #Cargar instancia\n",
    "        currentEval = calculateComplex(b,boxShape)    \n",
    "        if (idBox is None):\n",
    "            idBox = b\n",
    "            eval = currentEval\n",
    "        else:\n",
    "            if(currentEval > eval):\n",
    "                idBox = b\n",
    "                eval = currentEval\n",
    "    return idBox, eval"
   ]
  },
  {
   "cell_type": "code",
   "execution_count": 18,
   "metadata": {},
   "outputs": [],
   "source": [
    "import random as rand\n",
    "\n",
    "def popRandomBin(bins):\n",
    "    rPos = rand.random()%len(bins)\n",
    "    theBin = bins.pop(rPos)\n",
    "    return theBin"
   ]
  },
  {
   "cell_type": "code",
   "execution_count": 13,
   "metadata": {},
   "outputs": [
    {
     "output_type": "stream",
     "name": "stdout",
     "text": [
      "Ending MCLP server\n"
     ]
    }
   ],
   "source": [
    "def close_mclp_server():\n",
    "    stdin, stdout, stderr = ssh.exec_command(\"echo END | netcat localhost 8080\")\n",
    "    print(stdout.readlines()[0])\n",
    "    \n",
    "close_mclp_server()"
   ]
  }
 ],
 "metadata": {
  "kernelspec": {
   "display_name": "Python 3",
   "language": "python",
   "name": "python3"
  },
  "language_info": {
   "codemirror_mode": {
    "name": "ipython",
    "version": 3
   },
   "file_extension": ".py",
   "mimetype": "text/x-python",
   "name": "python",
   "nbconvert_exporter": "python",
   "pygments_lexer": "ipython3",
   "version": "3.8.3-final"
  }
 },
 "nbformat": 4,
 "nbformat_minor": 4
}