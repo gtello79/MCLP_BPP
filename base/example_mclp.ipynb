{
 "cells": [
  {
   "source": [
    "# Conexión por SSH"
   ],
   "cell_type": "markdown",
   "metadata": {}
  },
  {
   "cell_type": "code",
   "execution_count": 9,
   "metadata": {},
   "outputs": [],
   "source": [
    "import paramiko\n",
    "import getpass\n",
    "\n",
    "host = \"158.251.88.197\"\n",
    "port = 22\n",
    "username = \"gonzalo\"\n",
    "password = getpass.getpass()\n",
    "\n",
    "ssh = paramiko.SSHClient()\n",
    "ssh.set_missing_host_key_policy(paramiko.AutoAddPolicy())\n",
    "ssh.connect(host, port, username, password)"
   ]
  },
  {
   "cell_type": "markdown",
   "metadata": {},
   "source": [
    "# Ejecución de comandos"
   ]
  },
  {
   "cell_type": "markdown",
   "metadata": {},
   "source": [
    "Implementé un *servidor MCLP*, el cual escucha instrucciones para generar bins.\n",
    "\n",
    "El siguiente código lanza el servidor en el background, carga una instancia y lo deja escuchando peticiones por el puerto 8080"
   ]
  },
  {
   "cell_type": "code",
   "execution_count": 10,
   "metadata": {},
   "outputs": [],
   "source": [
    "transport = ssh.get_transport()\n",
    "channel = transport.open_session()\n",
    "idClass = 1\n",
    "boxSize = 100\n",
    "idInstance = 2\n",
    "channel.exec_command(\"killall BASIC_BSG_MCLP; ./mclp/Metasolver/BASIC_BSG_MCLP mclp/Metasolver/problems/mclp/benchs/class\"+str(idClass)+\"/\"+str(boxSize)+\".txt -i \"+str(idInstance))"
   ]
  },
  {
   "source": [
    "Se carga la instancia asociada a su clase y numero de cajas"
   ],
   "cell_type": "markdown",
   "metadata": {}
  },
  {
   "cell_type": "code",
   "execution_count": 26,
   "metadata": {
    "tags": []
   },
   "outputs": [
    {
     "output_type": "stream",
     "name": "stdout",
     "text": [
      "100\n"
     ]
    }
   ],
   "source": [
    "def getInstance(filePath, idInstance):\n",
    "    boxesinfo = []\n",
    "    binDim = []\n",
    "    boxesFile = open(filePath,'r')\n",
    "    instanceIndex = 0\n",
    "    countBox = 0\n",
    "    totalBox = 0\n",
    "\n",
    "    for line in boxesFile.readlines():\n",
    "        info = line.strip().split()\n",
    "\n",
    "        if(instanceIndex < idInstance and len(info) == 4):\n",
    "            instanceIndex+=1\n",
    "            totalBox = int(info[0])\n",
    "        \n",
    "        elif(instanceIndex == idInstance):\n",
    "            #La instancia que se esta buscando\n",
    "            if(len(info) == 4):\n",
    "                instanceIndex+=1\n",
    "                totalBox = int(info[0])\n",
    "                binDim = [int(info[i]) for i in range(1, len(info))]\n",
    "            \n",
    "            elif(len(info) == 3 and countBox < totalBox):\n",
    "                countBox+=1    \n",
    "                b = [int(info[i]) for i in range(0, len(info))]\n",
    "                b.sort()\n",
    "                boxesinfo.append(b)\n",
    "    \n",
    "    return boxesinfo\n",
    "\n",
    "path = '../benchs/class1/100.txt'\n",
    "instance = 2\n",
    "x = getInstance(path, instance)"
   ]
  },
  {
   "cell_type": "markdown",
   "metadata": {},
   "source": [
    "**Generación de conjunto inicial de bins con BSG**\n",
    "\n",
    "La siguiente función genera la lista inicial de bins. Cada línea representa un bin indicando el porcentaje de llenado y los ids de sus cajas.\n",
    "\n",
    "Es necesario modificarla para que en vez de imprimir el contenido de los bins, retorne una estructura adecuada."
   ]
  },
  {
   "cell_type": "code",
   "execution_count": 12,
   "metadata": {},
   "outputs": [],
   "source": [
    "def generate_bins():\n",
    "    stdin, stdout, stderr = ssh.exec_command(\"echo generate_bins | netcat localhost 8080\")\n",
    "    flag = False\n",
    "    bins = []\n",
    "    for line in stdout.readlines():\n",
    "        if \"BINS:\" in line: \n",
    "            flag = True\n",
    "            continue\n",
    "        if flag:    \n",
    "            #Modificar igual que generate_bin\n",
    "            line = line.strip().split()\n",
    "            newBin = [ int(line[x]) for x in range(1,len(line)) ]\n",
    "            bins.append(newBin)\n",
    "    return bins\n"
   ]
  },
  {
   "cell_type": "markdown",
   "metadata": {},
   "source": [
    "**Construcción de bin priorizando cajas (BSG)**"
   ]
  },
  {
   "cell_type": "code",
   "execution_count": 25,
   "metadata": {
    "collapsed": true,
    "jupyter": {
     "outputs_hidden": true
    }
   },
   "outputs": [
    {
     "output_type": "stream",
     "name": "stdout",
     "text": [
      "[0, 1, 8, 53, 45]\n"
     ]
    }
   ],
   "source": [
    "import paramiko\n",
    "import getpass\n",
    "\n",
    "def generate_bin(boxes, new_box):\n",
    "    leftboxes = None\n",
    "    boxes.append(new_box)\n",
    "    boxes_str = [str(box) for box in boxes]\n",
    "    pboxes_str = [str(pbox) for pbox in new_box]    \n",
    "    stdin, stdout, stderr = ssh.exec_command(\"echo generate_bin \" + \" \".join(boxes_str) + \" -1 \" + \" \".join(pboxes_str) +  \" -2 | netcat localhost 8080\")\n",
    "    for line in stdout.readlines(): \n",
    "        #ajustar linea para almacenar los conjuntos de cajas\n",
    "        print(line.strip())\n",
    "    \n",
    "    \n",
    "    #primera linea boxes \n",
    "    #segunda linea left boxes\n",
    "    boxes.remove(new_box)\n",
    "    \n",
    "    return boxes, leftboxes\n",
    "\n",
    "host = \"158.251.88.197\"\n",
    "port = 22\n",
    "username = \"gonzalo\"\n",
    "password = getpass.getpass()\n",
    "\n",
    "ssh = paramiko.SSHClient()\n",
    "ssh.set_missing_host_key_policy(paramiko.AutoAddPolicy())\n",
    "ssh.connect(host, port, username, password)\n",
    "\n",
    "bins, ___ = generate_bin([0,1,8,53,45],[45])\n",
    "print(bins)"
   ]
  },
  {
   "source": [
    "Faltaría:\n",
    "\n",
    "* Cargar la instancia en python (cajas con sus dimensiones) (Listo)\n",
    "* Implementar algoritmo. (Listo)\n",
    "\n",
    "A grandes rasgos el algoritmo hace los siguiente:\n",
    "1. Generación de bins iniciales usando **BSG**\n",
    "2. Selección de bin a desarmar y almacenar cajas en $C$\n",
    "3. Mientras $C$ no quede vacío o máximo de iteraciones:\n",
    "\n",
    "   1. Seleccionar caja $c$ de $C$\n",
    "   2. Seleccionar bin de destino $B$\n",
    "   3. Usar **BSG** para generar bin $B'$ usando cajas $B \\cup \\{c\\}$, priorizando $c$. Es posible que **BSG** retorne conjunto de cajas residuales $R$\n",
    "   4. Si $R$ es mejor que $c$, $B$ se reemplaza por $B'$ en el conjunto de bins y $C \\gets C \\cup R$\n",
    "   \n",
    " 4. Volver a 2 (seleccionar otro bin para desarmar)"
   ],
   "cell_type": "markdown",
   "metadata": {}
  },
  {
   "cell_type": "code",
   "execution_count": 14,
   "metadata": {},
   "outputs": [],
   "source": [
    "def solve(solver, s0, swapIter):\n",
    "    cantBoxes = s0.nbLeftBoxes\n",
    "    maxVolBin = s0.getContVol\n",
    "    boxes = set()\n",
    "    bestBins = None\n",
    "    bins = None\n",
    "\n",
    "    for box in s0.boxes:\n",
    "        boxes.add(box)\n",
    "    \n",
    "    #Llamada a BSG\n",
    "    bins = generador()\n",
    "    \n",
    "    firstSol = len(bins)\n",
    "    for i in range(swapIter):\n",
    "        toReduce = 0 #Que haga referencia al indice del bin\n",
    "        bins = reduceBins(bins, toReduce)\n",
    "    \n",
    "    return len(bins)\n"
   ]
  },
  {
   "cell_type": "code",
   "execution_count": 15,
   "metadata": {},
   "outputs": [],
   "source": [
    "import copy as cp\n",
    "\n",
    "def reduceBins(bins, toReduce):\n",
    "\n",
    "    lastBins = cp.deepcopy(bins)\n",
    "    breakedBin = bins.pop(toReduce)\n",
    "\n",
    "    while(len(breakedBin) == 0 or iter <100):\n",
    "\n",
    "        pivBin = popRandomBin(bins)    \n",
    "        complexBox, evalComplexBox = getMostComplexBox(breakedBin)\n",
    "        #Metodo de llamada al BSG\n",
    "        boxes, leftBoxes = generate_bin(pivBin, complexBox)\n",
    "        evalCB = calculateComplex()\n",
    "\n",
    "        #ENFASIS: CUANDO ACEPTAR EL CAMBIO \n",
    "\n",
    "        if( getMostComplexBox(leftBoxes)[1] < evalComplexBox and vol(leftBoxes) <= vol([complexBox]) ):\n",
    "            \n",
    "            #Se inserta el nuevo bin dentro del conjunto de bins\n",
    "            bins.append(boxes)\n",
    "            #Se elimina (desde el conjunto de cajas a repartir) la caja insertada en el nuevo bin \n",
    "            breakedBin.remove(complexBox)\n",
    "           \n",
    "            #Se agregan las cajas que se cambiaron\n",
    "            breakedBin += leftBoxes\n",
    "\n",
    "        else:\n",
    "            bins.append(pivBin)\n",
    "\n",
    "    #Regresar al estado anterior si \n",
    "    if(len(breakedBin) > 0):\n",
    "        return lastBins\n",
    "    #Sino\n",
    "    else: \n",
    "        return bins\n",
    "        "
   ]
  },
  {
   "cell_type": "code",
   "execution_count": 16,
   "metadata": {},
   "outputs": [],
   "source": [
    "def calculateComplex(idBox, dim):\n",
    "    #Revisar metodo sort\n",
    "    dim = dim.sort()\n",
    "    x,y,z = dim\n",
    "    expo = 1\n",
    "    vol = x*y*z\n",
    "\n",
    "    return ( ( (x/z)*(x/y)*(y/z) )**expo ) * vol"
   ]
  },
  {
   "cell_type": "code",
   "execution_count": 17,
   "metadata": {},
   "outputs": [],
   "source": [
    "def getMostComplexBox(bin):\n",
    "    idBox = None\n",
    "    eval = 0\n",
    "    \n",
    "    for b in bin:\n",
    "        boxShape = None #Cargar instancia\n",
    "        currentEval = calculateComplex(b,boxShape)    \n",
    "        if (idBox is None):\n",
    "            idBox = b\n",
    "            eval = currentEval\n",
    "        else:\n",
    "            if(currentEval > eval):\n",
    "                idBox = b\n",
    "                eval = currentEval\n",
    "    return idBox, eval"
   ]
  },
  {
   "source": [
    "import random as rand\n",
    "\n",
    "def popRandomBin(bins):\n",
    "    rPos = rand.random()%len(bins)\n",
    "    theBin = bins.pop(rPos)\n",
    "    return theBin"
   ],
   "cell_type": "code",
   "metadata": {},
   "execution_count": 18,
   "outputs": []
  },
  {
   "cell_type": "markdown",
   "metadata": {},
   "source": [
    "Para cerrar el servidor MCLP"
   ]
  },
  {
   "cell_type": "code",
   "execution_count": 19,
   "metadata": {},
   "outputs": [
    {
     "output_type": "stream",
     "name": "stdout",
     "text": [
      "Ending MCLP server\n"
     ]
    }
   ],
   "source": [
    "def close_mclp_server():\n",
    "    stdin, stdout, stderr = ssh.exec_command(\"echo END | netcat localhost 8080\")\n",
    "    print(stdout.readlines()[0])\n",
    "    \n",
    "close_mclp_server()"
   ]
  },
  {
   "source": [
    "## Aplicando Orientacion de objetos"
   ],
   "cell_type": "markdown",
   "metadata": {}
  },
  {
   "cell_type": "code",
   "execution_count": 20,
   "metadata": {},
   "outputs": [
    {
     "output_type": "error",
     "ename": "SyntaxError",
     "evalue": "unmatched ')' (<ipython-input-20-e27b311788e1>, line 10)",
     "traceback": [
      "\u001b[1;36m  File \u001b[1;32m\"<ipython-input-20-e27b311788e1>\"\u001b[1;36m, line \u001b[1;32m10\u001b[0m\n\u001b[1;33m    self.complex = (((self.x/self.z)*(self.x/self.y)*(self.y/self.z)))**expo) * self.vol\u001b[0m\n\u001b[1;37m                                                                            ^\u001b[0m\n\u001b[1;31mSyntaxError\u001b[0m\u001b[1;31m:\u001b[0m unmatched ')'\n"
     ]
    }
   ],
   "source": [
    "class box:\n",
    "    def __init__(self, dim, id):\n",
    "        self.idBox = id\n",
    "        self.x, self.y, self.z = dim\n",
    "        self.vol = x*y*z\n",
    "        self.complex = None\n",
    "    \n",
    "    def calculateComplex(self):\n",
    "        expo = 1\n",
    "        self.complex = (((self.x/self.z)*(self.x/self.y)*(self.y/self.z)))**expo) * self.vol\n",
    "        \n",
    "\n",
    "class bin:\n",
    "    def __init__(self, boxes):\n",
    "        self.boxes = boxes\n",
    "        self.\n",
    "\n",
    "    def getMostComplex(self):\n",
    "        idBox = None\n",
    "        eval = 0\n",
    "        for b in self.boxes:\n",
    "            if(idBox is None):\n",
    "                idBox = b.idBox\n",
    "            else:\n",
    "                if(b.complex > eval):\n",
    "                    idBox = b.idBox\n",
    "                    eval = b.complex\n",
    "        return idBox, eval    \n",
    "\n",
    "    def getBox(self, idBox):\n",
    "        for b in self.boxes:\n",
    "            if (idBox == b.idBox):\n",
    "                return b \n",
    "            else:\n",
    "                continue   \n",
    "\n",
    "    def getAllIndex(self):\n",
    "        idBoxes = [ b.idBox for b in self.boxes ]\n",
    "        return idBoxes\n"
   ]
  },
  {
   "cell_type": "code",
   "execution_count": null,
   "metadata": {},
   "outputs": [],
   "source": []
  }
 ],
 "metadata": {
  "kernelspec": {
   "name": "python3",
   "display_name": "Python 3",
   "language": "python"
  },
  "language_info": {
   "codemirror_mode": {
    "name": "ipython",
    "version": 3
   },
   "file_extension": ".py",
   "mimetype": "text/x-python",
   "name": "python",
   "nbconvert_exporter": "python",
   "pygments_lexer": "ipython3",
   "version": "3.8.3-final"
  }
 },
 "nbformat": 4,
 "nbformat_minor": 4
}