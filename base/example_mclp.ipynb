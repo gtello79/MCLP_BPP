{
 "cells": [
  {
   "source": [
    "# Conexión por SSH"
   ],
   "cell_type": "markdown",
   "metadata": {}
  },
  {
   "source": [
    "Inicializar la conexion ssh\n"
   ],
   "cell_type": "markdown",
   "metadata": {}
  },
  {
   "source": [
    "import paramiko\n",
    "import getpass\n",
    "\n",
    "host = \"158.251.88.197\"\n",
    "port = 22\n",
    "username = \"gonzalo\"\n",
    "password = getpass.getpass()\n",
    "\n",
    "ssh = paramiko.SSHClient()\n",
    "ssh.set_missing_host_key_policy(paramiko.AutoAddPolicy())\n",
    "ssh.connect(host, port, username, password)"
   ],
   "cell_type": "code",
   "metadata": {},
   "execution_count": 65,
   "outputs": []
  },
  {
   "cell_type": "markdown",
   "metadata": {},
   "source": [
    "Para cerrar el servidor MCLP"
   ]
  },
  {
   "cell_type": "code",
   "execution_count": 66,
   "metadata": {},
   "outputs": [],
   "source": [
    "def close_mclp_server(port=8060):\n",
    "    stdin, stdout, stderr = ssh.exec_command(\"echo END | netcat localhost \"+str(port))\n",
    "    print(stdout.readlines()[0])\n",
    "    "
   ]
  },
  {
   "source": [
    "# LoadBoxes(path,instance)\n",
    "--\n",
    "Se carga las cajas de una instancia"
   ],
   "cell_type": "markdown",
   "metadata": {}
  },
  {
   "cell_type": "code",
   "execution_count": 67,
   "metadata": {
    "tags": []
   },
   "outputs": [],
   "source": [
    "import numpy as np\n",
    "\n",
    "dimBox = dict()\n",
    "vol = dict()\n",
    "\n",
    "def loadBoxes(idClass, boxSize, idInstance):\n",
    "    filePath = '../benchs/class'+str(idClass)+'/'+str(boxSize)+'.txt'\n",
    "    instanceIndex = -1\n",
    "    countBox = 0\n",
    "    totalBox = 0\n",
    "    boxesinfo = []\n",
    "    binDim = []\n",
    "    \n",
    "    boxesFile = open(filePath,'r')\n",
    "    \n",
    "    #Lectura del archivo\n",
    "    for line in boxesFile.readlines():\n",
    "        info = line.strip().split()\n",
    "        \n",
    "        if(instanceIndex < idInstance and len(info) == 4):\n",
    "            instanceIndex+=1\n",
    "            totalBox = int(info[0])\n",
    "        \n",
    "        elif(instanceIndex == idInstance):\n",
    "            #La instancia que se esta buscando\n",
    "            if(len(info) == 4):\n",
    "                instanceIndex+=1\n",
    "                totalBox = int(info[0])\n",
    "                binDim = [int(info[i]) for i in range(1, len(info))]\n",
    "                binDim = np.array(binDim)\n",
    "            \n",
    "            elif(len(info) == 3 and countBox < totalBox):\n",
    "                countBox+=1    \n",
    "                b = np.array([int(info[i]) for i in range(0, len(info))])\n",
    "                b.sort()\n",
    "                boxesinfo.append(b)\n",
    "\n",
    "    countBox = 0\n",
    "    for boxSize in boxesinfo:\n",
    "        dimBox[countBox] = np.array(boxSize)\n",
    "        countBox +=1\n"
   ]
  },
  {
   "cell_type": "markdown",
   "metadata": {},
   "source": [
    "Implementé un *servidor MCLP*, el cual escucha instrucciones para generar bins.\n",
    "\n",
    "El siguiente código lanza el servidor en el background, carga una instancia y lo deja escuchando peticiones por el puerto 8080"
   ]
  },
  {
   "cell_type": "code",
   "execution_count": 68,
   "metadata": {},
   "outputs": [],
   "source": [
    "def loadInstance(idClass=1, boxSize=100, idInstance=0, port=8060):\n",
    "    transport = ssh.get_transport()\n",
    "    channel = transport.open_session()\n",
    "    loadBoxes(idClass, boxSize, idInstance)\n",
    "    channel.exec_command(\"killall BASIC_BSG_MCLP; ./mclp/Metasolver/BASIC_BSG_MCLP mclp/Metasolver/problems/mclp/benchs/class\"+ \\\n",
    "                         str(idClass)+\"/\"+str(boxSize)+\".txt -i \"+str(idInstance)+\" --port=\"+str(port))\n",
    "    return dimBox, channel\n",
    "\n",
    "boxes, channel = loadInstance(1,100,0,port)   "
   ]
  },
  {
   "source": [
    "# Metodos implementados\n",
    "\n",
    "\n"
   ],
   "cell_type": "markdown",
   "metadata": {}
  },
  {
   "source": [
    "## Extras "
   ],
   "cell_type": "markdown",
   "metadata": {}
  },
  {
   "cell_type": "code",
   "execution_count": 69,
   "metadata": {},
   "outputs": [],
   "source": [
    "import matplotlib.pyplot as plt\n",
    "\n",
    "def createPlot(InitialVol, finalVol):\n",
    "    id_bins_first = list( InitialVol.keys() )\n",
    "    size_initial_bins = list( InitialVol.values() )\n",
    "\n",
    "    id_bins_final = list( finalVol.keys() )\n",
    "    size_final_bins = list( finalVol.values() )\n",
    "\n",
    "    plt.plot(id_bins_first, size_initial_bins, label = 'First Solution')\n",
    "    plt.plot(id_bins_final, size_final_bins, label = 'Final Solution')\n",
    "\n",
    "    plt.title('Volumen asociado a cada bin')\n",
    "    plt.legend()\n",
    "    plt.show()\n"
   ]
  },
  {
   "cell_type": "code",
   "execution_count": 70,
   "metadata": {},
   "outputs": [],
   "source": [
    "def calculateComplex(idBox, dim):\n",
    "    x,y,z = dim\n",
    "    expo = 1\n",
    "    vol = x*y*z\n",
    "    return ( ( (x/z)*(x/y)*(y/z) )**expo ) * vol"
   ]
  },
  {
   "cell_type": "code",
   "execution_count": 71,
   "metadata": {},
   "outputs": [],
   "source": [
    "def getMostComplexBox(bin):\n",
    "    idBox = []\n",
    "    eval = 0\n",
    "    \n",
    "    for b in bin:\n",
    "        boxShape = boxes[b] #Cargar instancia\n",
    "        \n",
    "        currentEval = calculateComplex(b,boxShape)    \n",
    "        if (idBox is None):\n",
    "            idBox = b\n",
    "            eval = currentEval\n",
    "        else:\n",
    "            if(currentEval > eval):\n",
    "                idBox = b\n",
    "                eval = currentEval\n",
    "    return idBox, eval"
   ]
  },
  {
   "cell_type": "code",
   "execution_count": 72,
   "metadata": {},
   "outputs": [],
   "source": [
    "import random as rand\n",
    "\n",
    "def popRandomBin(bins):\n",
    "    rPos = int(rand.random()*len(bins))\n",
    "    theBin = bins.pop(rPos)\n",
    "    return theBin, bins, rPos"
   ]
  },
  {
   "cell_type": "code",
   "execution_count": 73,
   "metadata": {},
   "outputs": [],
   "source": [
    "def vol(listBoxes):\n",
    "    totalVol = 0\n",
    "    for box in listBoxes:\n",
    "        x,y,z = boxes[box]\n",
    "        totalVol += x*y*z\n",
    "    return totalVol\n"
   ]
  },
  {
   "source": [
    "## Generadores "
   ],
   "cell_type": "markdown",
   "metadata": {}
  },
  {
   "cell_type": "markdown",
   "metadata": {},
   "source": [
    "**Generación de conjunto inicial de bins con BSG**\n",
    "\n",
    "La siguiente función genera la lista inicial de bins. Cada línea representa un bin indicando el porcentaje de llenado y los ids de sus cajas.\n",
    "\n",
    "Es necesario modificarla para que en vez de imprimir el contenido de los bins, retorne una estructura adecuada."
   ]
  },
  {
   "cell_type": "code",
   "execution_count": 74,
   "metadata": {},
   "outputs": [],
   "source": [
    "volBin = dict() #Volumen de cada bin\n",
    "\n",
    "def generate_bins(port=8060):\n",
    "    #probarlo con distintas instancias\n",
    "    \n",
    "    local_command = \"echo generate_bins | netcat localhost \"+str(port)\n",
    "    stdin, stdout, stderr = ssh.exec_command(local_command)\n",
    "    flag = False\n",
    "    bins = []\n",
    "    count = 0\n",
    "    for line in stdout.readlines():\n",
    "        if \"BINS:\" in line: \n",
    "            flag = True\n",
    "            continue\n",
    "        if flag:    \n",
    "            #Modificar igual que generate_bin\n",
    "            line = line.strip().split()\n",
    "            vol = float(line[0]) #Porcentaje de llenado del bin\n",
    "            newBin = np.array([int(line[x]) for x in range(1,len(line))])\n",
    "            #calcular el volumen\n",
    "            bins.append(newBin)\n",
    "            volBin[count] = vol\n",
    "            count +=1\n",
    "    #recordar forma del arreglo        \n",
    "    return bins"
   ]
  },
  {
   "cell_type": "markdown",
   "metadata": {},
   "source": [
    "**Construcción de bin priorizando cajas (BSG)**"
   ]
  },
  {
   "cell_type": "code",
   "execution_count": 75,
   "metadata": {},
   "outputs": [],
   "source": [
    "import paramiko\n",
    "import getpass\n",
    "import numpy as np\n",
    "\n",
    "def generate_bin(boxes, new_box, port=8060):\n",
    "    global channel\n",
    "    index = 0\n",
    "    leftboxes = []\n",
    "    newBin = []\n",
    "    boxes = np.insert(boxes, 1, new_box)\n",
    "    boxes_str = [str(box) for box in boxes]\n",
    "    pboxes_str = str(new_box)\n",
    "    percent = 0.0\n",
    "\n",
    "    local_command = \"echo generate_bin \" + \" \".join(boxes_str) + \" -1 \" + pboxes_str +  \" -2 | netcat localhost \"+str(port)\n",
    "    stdin, stdout, stderr = ssh.exec_command(local_command)\n",
    "    lines = stdout.readlines()\n",
    "\n",
    "    while( len(lines) == 0 ):\n",
    "        \n",
    "        ___, channel = loadInstance(idClass, boxSize, idInstance, port)\n",
    "        stdin, stdout, stderr = ssh.exec_command(\"echo generate_bin \" + \" \".join(boxes_str) + \" -1 \" + pboxes_str +  \" -2 | netcat localhost \"+str(port))\n",
    "        lines = stdout.readlines()\n",
    "    \n",
    "    for line in lines: \n",
    "        #ajustar linea para almacenar los conjuntos de cajas\n",
    "        line = line.strip().split()\n",
    "        \n",
    "        if(index == 0):\n",
    "            #primera linea boxes \n",
    "            percent = float(line.pop(0))\n",
    "            newBin = np.array([int(x) for x in line])            \n",
    "        else:\n",
    "            #segunda linea left boxes\n",
    "            leftboxes = np.array([int(x) for x in line])\n",
    "        index+=1\n",
    "\n",
    "    return newBin, leftboxes, percent"
   ]
  },
  {
   "source": [
    "# Multiple Container Loading Problem"
   ],
   "cell_type": "markdown",
   "metadata": {}
  },
  {
   "cell_type": "code",
   "execution_count": 76,
   "metadata": {},
   "outputs": [],
   "source": [
    "import copy as cp\n",
    "\n",
    "def reduceBins(bins, toReduce):\n",
    "\n",
    "    lastBins = cp.deepcopy(bins)\n",
    "    breakedBin = toReduce\n",
    "    iterator = 0\n",
    "\n",
    "    # Desde una caja intentar introducirla en el resto\n",
    "    while(len(breakedBin) == 0 or iterator < 10):\n",
    "        #Se hace pop a un bin dentro del universo de bins\n",
    "        pivBin, bins, id_piv_bin = popRandomBin(bins)    \n",
    "\n",
    "        #Se obtiene una caja compleja desde el bin que se desea distribuir\n",
    "        complexBox, evalComplexBox = getMostComplexBox(breakedBin)\n",
    "        \n",
    "        #Metodo de llamada al BSG\n",
    "        boxes, leftBoxes, percent = generate_bin(pivBin, complexBox, port)\n",
    "        \n",
    "        #Se calcula la complejidad de la caja más compleja\n",
    "        dimComplexBox = dimBox[complexBox]\n",
    "        \n",
    "        evalComplexBox = calculateComplex(complexBox, dimComplexBox)\n",
    "        if( vol(leftBoxes) <= vol([complexBox]) ):\n",
    "            print(\"Cambio aceptado\")\n",
    "            #Se inserta el nuevo bin dentro del conjunto de bins\n",
    "            bins.append(boxes)\n",
    "            \n",
    "            #Se elimina (desde el conjunto de cajas a repartir) la caja insertada en el nuevo bin \n",
    "            index = np.where(breakedBin == complexBox)\n",
    "            breakedBin = np.delete(breakedBin, index[0])\n",
    "            \n",
    "            #Se agregan las cajas que se cambiaron\n",
    "            breakedBin = np.concatenate((leftBoxes, breakedBin)) \n",
    "            \n",
    "            #Se sea el volumen del bin por el porcentaje obtenido por generate Bin\n",
    "            volBin[id_piv_bin] = percent\n",
    "\n",
    "        else:\n",
    "            bins.append(pivBin)\n",
    "        iterator+=1\n",
    "            \n",
    "    #Regresar al estado anterior si \n",
    "    if(len(breakedBin) > 0):\n",
    "        lastBins.append(toReduce)\n",
    "        return lastBins, False\n",
    "    #Sino\n",
    "    else: \n",
    "        return bins, True\n",
    "        "
   ]
  },
  {
   "cell_type": "code",
   "execution_count": 77,
   "metadata": {},
   "outputs": [],
   "source": [
    "initialVol = None\n",
    "\n",
    "def solve(swapIter, port=8060):\n",
    "    cantBoxes = len(dimBox)\n",
    "    totalBoxes = boxes\n",
    "    \n",
    "    #Llamada a BSG\n",
    "    print(\"Generando conjunto inicial de bins\")\n",
    "    bins = generate_bins(port)\n",
    "    \n",
    "    firstSol = len(bins)\n",
    "    initialVol = volBin\n",
    "    \n",
    "    for i in range(swapIter):\n",
    "        print(\"ITERACION \"+str(i))\n",
    "        toReduce, bins, id_to_reduce = popRandomBin(bins) \n",
    "        bins, change = reduceBins(bins, toReduce)\n",
    "        \n",
    "\n",
    "        if(change):\n",
    "            print(\"Existe cambio\")\n",
    "            volBin[id_to_reduce] = 0.0\n",
    "\n",
    "    print(\"Solución inicial: \"+str(firstSol)+\" - Solución final: \" + str(len(bins)))\n",
    "\n",
    "    createPlot(initialVol, volBin)\n",
    "    return bins\n"
   ]
  },
  {
   "cell_type": "code",
   "execution_count": 78,
   "metadata": {
    "tags": []
   },
   "outputs": [
    {
     "output_type": "stream",
     "name": "stdout",
     "text": [
      "Generando conjunto inicial de bins\n",
      "ITERACION 0\n",
      "Cambio aceptado\n",
      "ITERACION 1\n",
      "ITERACION 2\n",
      "ITERACION 3\n",
      "ITERACION 4\n",
      "ITERACION 5\n",
      "Cambio aceptado\n",
      "ITERACION 6\n",
      "Cambio aceptado\n",
      "ITERACION 7\n",
      "Cambio aceptado\n",
      "Cambio aceptado\n",
      "ITERACION 8\n",
      "Cambio aceptado\n",
      "ITERACION 9\n",
      "Cambio aceptado\n",
      "Solución inicial: 24 - Solución final: 24\n"
     ]
    },
    {
     "output_type": "display_data",
     "data": {
      "text/plain": "<Figure size 432x288 with 1 Axes>",
      "image/svg+xml": "<?xml version=\"1.0\" encoding=\"utf-8\" standalone=\"no\"?>\r\n<!DOCTYPE svg PUBLIC \"-//W3C//DTD SVG 1.1//EN\"\r\n  \"http://www.w3.org/Graphics/SVG/1.1/DTD/svg11.dtd\">\r\n<!-- Created with matplotlib (https://matplotlib.org/) -->\r\n<svg height=\"263.63625pt\" version=\"1.1\" viewBox=\"0 0 372.103125 263.63625\" width=\"372.103125pt\" xmlns=\"http://www.w3.org/2000/svg\" xmlns:xlink=\"http://www.w3.org/1999/xlink\">\r\n <defs>\r\n  <style type=\"text/css\">\r\n*{stroke-linecap:butt;stroke-linejoin:round;}\r\n  </style>\r\n </defs>\r\n <g id=\"figure_1\">\r\n  <g id=\"patch_1\">\r\n   <path d=\"M 0 263.63625 \r\nL 372.103125 263.63625 \r\nL 372.103125 0 \r\nL 0 0 \r\nz\r\n\" style=\"fill:none;\"/>\r\n  </g>\r\n  <g id=\"axes_1\">\r\n   <g id=\"patch_2\">\r\n    <path d=\"M 30.103125 239.758125 \r\nL 364.903125 239.758125 \r\nL 364.903125 22.318125 \r\nL 30.103125 22.318125 \r\nz\r\n\" style=\"fill:#ffffff;\"/>\r\n   </g>\r\n   <g id=\"matplotlib.axis_1\">\r\n    <g id=\"xtick_1\">\r\n     <g id=\"line2d_1\">\r\n      <defs>\r\n       <path d=\"M 0 0 \r\nL 0 3.5 \r\n\" id=\"m42becf7ba2\" style=\"stroke:#000000;stroke-width:0.8;\"/>\r\n      </defs>\r\n      <g>\r\n       <use style=\"stroke:#000000;stroke-width:0.8;\" x=\"45.321307\" xlink:href=\"#m42becf7ba2\" y=\"239.758125\"/>\r\n      </g>\r\n     </g>\r\n     <g id=\"text_1\">\r\n      <!-- 0 -->\r\n      <defs>\r\n       <path d=\"M 31.78125 66.40625 \r\nQ 24.171875 66.40625 20.328125 58.90625 \r\nQ 16.5 51.421875 16.5 36.375 \r\nQ 16.5 21.390625 20.328125 13.890625 \r\nQ 24.171875 6.390625 31.78125 6.390625 \r\nQ 39.453125 6.390625 43.28125 13.890625 \r\nQ 47.125 21.390625 47.125 36.375 \r\nQ 47.125 51.421875 43.28125 58.90625 \r\nQ 39.453125 66.40625 31.78125 66.40625 \r\nz\r\nM 31.78125 74.21875 \r\nQ 44.046875 74.21875 50.515625 64.515625 \r\nQ 56.984375 54.828125 56.984375 36.375 \r\nQ 56.984375 17.96875 50.515625 8.265625 \r\nQ 44.046875 -1.421875 31.78125 -1.421875 \r\nQ 19.53125 -1.421875 13.0625 8.265625 \r\nQ 6.59375 17.96875 6.59375 36.375 \r\nQ 6.59375 54.828125 13.0625 64.515625 \r\nQ 19.53125 74.21875 31.78125 74.21875 \r\nz\r\n\" id=\"DejaVuSans-48\"/>\r\n      </defs>\r\n      <g transform=\"translate(42.140057 254.356563)scale(0.1 -0.1)\">\r\n       <use xlink:href=\"#DejaVuSans-48\"/>\r\n      </g>\r\n     </g>\r\n    </g>\r\n    <g id=\"xtick_2\">\r\n     <g id=\"line2d_2\">\r\n      <g>\r\n       <use style=\"stroke:#000000;stroke-width:0.8;\" x=\"111.487315\" xlink:href=\"#m42becf7ba2\" y=\"239.758125\"/>\r\n      </g>\r\n     </g>\r\n     <g id=\"text_2\">\r\n      <!-- 5 -->\r\n      <defs>\r\n       <path d=\"M 10.796875 72.90625 \r\nL 49.515625 72.90625 \r\nL 49.515625 64.59375 \r\nL 19.828125 64.59375 \r\nL 19.828125 46.734375 \r\nQ 21.96875 47.46875 24.109375 47.828125 \r\nQ 26.265625 48.1875 28.421875 48.1875 \r\nQ 40.625 48.1875 47.75 41.5 \r\nQ 54.890625 34.8125 54.890625 23.390625 \r\nQ 54.890625 11.625 47.5625 5.09375 \r\nQ 40.234375 -1.421875 26.90625 -1.421875 \r\nQ 22.3125 -1.421875 17.546875 -0.640625 \r\nQ 12.796875 0.140625 7.71875 1.703125 \r\nL 7.71875 11.625 \r\nQ 12.109375 9.234375 16.796875 8.0625 \r\nQ 21.484375 6.890625 26.703125 6.890625 \r\nQ 35.15625 6.890625 40.078125 11.328125 \r\nQ 45.015625 15.765625 45.015625 23.390625 \r\nQ 45.015625 31 40.078125 35.4375 \r\nQ 35.15625 39.890625 26.703125 39.890625 \r\nQ 22.75 39.890625 18.8125 39.015625 \r\nQ 14.890625 38.140625 10.796875 36.28125 \r\nz\r\n\" id=\"DejaVuSans-53\"/>\r\n      </defs>\r\n      <g transform=\"translate(108.306065 254.356563)scale(0.1 -0.1)\">\r\n       <use xlink:href=\"#DejaVuSans-53\"/>\r\n      </g>\r\n     </g>\r\n    </g>\r\n    <g id=\"xtick_3\">\r\n     <g id=\"line2d_3\">\r\n      <g>\r\n       <use style=\"stroke:#000000;stroke-width:0.8;\" x=\"177.653323\" xlink:href=\"#m42becf7ba2\" y=\"239.758125\"/>\r\n      </g>\r\n     </g>\r\n     <g id=\"text_3\">\r\n      <!-- 10 -->\r\n      <defs>\r\n       <path d=\"M 12.40625 8.296875 \r\nL 28.515625 8.296875 \r\nL 28.515625 63.921875 \r\nL 10.984375 60.40625 \r\nL 10.984375 69.390625 \r\nL 28.421875 72.90625 \r\nL 38.28125 72.90625 \r\nL 38.28125 8.296875 \r\nL 54.390625 8.296875 \r\nL 54.390625 0 \r\nL 12.40625 0 \r\nz\r\n\" id=\"DejaVuSans-49\"/>\r\n      </defs>\r\n      <g transform=\"translate(171.290823 254.356563)scale(0.1 -0.1)\">\r\n       <use xlink:href=\"#DejaVuSans-49\"/>\r\n       <use x=\"63.623047\" xlink:href=\"#DejaVuSans-48\"/>\r\n      </g>\r\n     </g>\r\n    </g>\r\n    <g id=\"xtick_4\">\r\n     <g id=\"line2d_4\">\r\n      <g>\r\n       <use style=\"stroke:#000000;stroke-width:0.8;\" x=\"243.819331\" xlink:href=\"#m42becf7ba2\" y=\"239.758125\"/>\r\n      </g>\r\n     </g>\r\n     <g id=\"text_4\">\r\n      <!-- 15 -->\r\n      <g transform=\"translate(237.456831 254.356563)scale(0.1 -0.1)\">\r\n       <use xlink:href=\"#DejaVuSans-49\"/>\r\n       <use x=\"63.623047\" xlink:href=\"#DejaVuSans-53\"/>\r\n      </g>\r\n     </g>\r\n    </g>\r\n    <g id=\"xtick_5\">\r\n     <g id=\"line2d_5\">\r\n      <g>\r\n       <use style=\"stroke:#000000;stroke-width:0.8;\" x=\"309.985338\" xlink:href=\"#m42becf7ba2\" y=\"239.758125\"/>\r\n      </g>\r\n     </g>\r\n     <g id=\"text_5\">\r\n      <!-- 20 -->\r\n      <defs>\r\n       <path d=\"M 19.1875 8.296875 \r\nL 53.609375 8.296875 \r\nL 53.609375 0 \r\nL 7.328125 0 \r\nL 7.328125 8.296875 \r\nQ 12.9375 14.109375 22.625 23.890625 \r\nQ 32.328125 33.6875 34.8125 36.53125 \r\nQ 39.546875 41.84375 41.421875 45.53125 \r\nQ 43.3125 49.21875 43.3125 52.78125 \r\nQ 43.3125 58.59375 39.234375 62.25 \r\nQ 35.15625 65.921875 28.609375 65.921875 \r\nQ 23.96875 65.921875 18.8125 64.3125 \r\nQ 13.671875 62.703125 7.8125 59.421875 \r\nL 7.8125 69.390625 \r\nQ 13.765625 71.78125 18.9375 73 \r\nQ 24.125 74.21875 28.421875 74.21875 \r\nQ 39.75 74.21875 46.484375 68.546875 \r\nQ 53.21875 62.890625 53.21875 53.421875 \r\nQ 53.21875 48.921875 51.53125 44.890625 \r\nQ 49.859375 40.875 45.40625 35.40625 \r\nQ 44.1875 33.984375 37.640625 27.21875 \r\nQ 31.109375 20.453125 19.1875 8.296875 \r\nz\r\n\" id=\"DejaVuSans-50\"/>\r\n      </defs>\r\n      <g transform=\"translate(303.622838 254.356563)scale(0.1 -0.1)\">\r\n       <use xlink:href=\"#DejaVuSans-50\"/>\r\n       <use x=\"63.623047\" xlink:href=\"#DejaVuSans-48\"/>\r\n      </g>\r\n     </g>\r\n    </g>\r\n   </g>\r\n   <g id=\"matplotlib.axis_2\">\r\n    <g id=\"ytick_1\">\r\n     <g id=\"line2d_6\">\r\n      <defs>\r\n       <path d=\"M 0 0 \r\nL -3.5 0 \r\n\" id=\"m2a08e8c5c9\" style=\"stroke:#000000;stroke-width:0.8;\"/>\r\n      </defs>\r\n      <g>\r\n       <use style=\"stroke:#000000;stroke-width:0.8;\" x=\"30.103125\" xlink:href=\"#m2a08e8c5c9\" y=\"204.731049\"/>\r\n      </g>\r\n     </g>\r\n     <g id=\"text_6\">\r\n      <!-- 0.5 -->\r\n      <defs>\r\n       <path d=\"M 10.6875 12.40625 \r\nL 21 12.40625 \r\nL 21 0 \r\nL 10.6875 0 \r\nz\r\n\" id=\"DejaVuSans-46\"/>\r\n      </defs>\r\n      <g transform=\"translate(7.2 208.530267)scale(0.1 -0.1)\">\r\n       <use xlink:href=\"#DejaVuSans-48\"/>\r\n       <use x=\"63.623047\" xlink:href=\"#DejaVuSans-46\"/>\r\n       <use x=\"95.410156\" xlink:href=\"#DejaVuSans-53\"/>\r\n      </g>\r\n     </g>\r\n    </g>\r\n    <g id=\"ytick_2\">\r\n     <g id=\"line2d_7\">\r\n      <g>\r\n       <use style=\"stroke:#000000;stroke-width:0.8;\" x=\"30.103125\" xlink:href=\"#m2a08e8c5c9\" y=\"165.68844\"/>\r\n      </g>\r\n     </g>\r\n     <g id=\"text_7\">\r\n      <!-- 0.6 -->\r\n      <defs>\r\n       <path d=\"M 33.015625 40.375 \r\nQ 26.375 40.375 22.484375 35.828125 \r\nQ 18.609375 31.296875 18.609375 23.390625 \r\nQ 18.609375 15.53125 22.484375 10.953125 \r\nQ 26.375 6.390625 33.015625 6.390625 \r\nQ 39.65625 6.390625 43.53125 10.953125 \r\nQ 47.40625 15.53125 47.40625 23.390625 \r\nQ 47.40625 31.296875 43.53125 35.828125 \r\nQ 39.65625 40.375 33.015625 40.375 \r\nz\r\nM 52.59375 71.296875 \r\nL 52.59375 62.3125 \r\nQ 48.875 64.0625 45.09375 64.984375 \r\nQ 41.3125 65.921875 37.59375 65.921875 \r\nQ 27.828125 65.921875 22.671875 59.328125 \r\nQ 17.53125 52.734375 16.796875 39.40625 \r\nQ 19.671875 43.65625 24.015625 45.921875 \r\nQ 28.375 48.1875 33.59375 48.1875 \r\nQ 44.578125 48.1875 50.953125 41.515625 \r\nQ 57.328125 34.859375 57.328125 23.390625 \r\nQ 57.328125 12.15625 50.6875 5.359375 \r\nQ 44.046875 -1.421875 33.015625 -1.421875 \r\nQ 20.359375 -1.421875 13.671875 8.265625 \r\nQ 6.984375 17.96875 6.984375 36.375 \r\nQ 6.984375 53.65625 15.1875 63.9375 \r\nQ 23.390625 74.21875 37.203125 74.21875 \r\nQ 40.921875 74.21875 44.703125 73.484375 \r\nQ 48.484375 72.75 52.59375 71.296875 \r\nz\r\n\" id=\"DejaVuSans-54\"/>\r\n      </defs>\r\n      <g transform=\"translate(7.2 169.487659)scale(0.1 -0.1)\">\r\n       <use xlink:href=\"#DejaVuSans-48\"/>\r\n       <use x=\"63.623047\" xlink:href=\"#DejaVuSans-46\"/>\r\n       <use x=\"95.410156\" xlink:href=\"#DejaVuSans-54\"/>\r\n      </g>\r\n     </g>\r\n    </g>\r\n    <g id=\"ytick_3\">\r\n     <g id=\"line2d_8\">\r\n      <g>\r\n       <use style=\"stroke:#000000;stroke-width:0.8;\" x=\"30.103125\" xlink:href=\"#m2a08e8c5c9\" y=\"126.645832\"/>\r\n      </g>\r\n     </g>\r\n     <g id=\"text_8\">\r\n      <!-- 0.7 -->\r\n      <defs>\r\n       <path d=\"M 8.203125 72.90625 \r\nL 55.078125 72.90625 \r\nL 55.078125 68.703125 \r\nL 28.609375 0 \r\nL 18.3125 0 \r\nL 43.21875 64.59375 \r\nL 8.203125 64.59375 \r\nz\r\n\" id=\"DejaVuSans-55\"/>\r\n      </defs>\r\n      <g transform=\"translate(7.2 130.44505)scale(0.1 -0.1)\">\r\n       <use xlink:href=\"#DejaVuSans-48\"/>\r\n       <use x=\"63.623047\" xlink:href=\"#DejaVuSans-46\"/>\r\n       <use x=\"95.410156\" xlink:href=\"#DejaVuSans-55\"/>\r\n      </g>\r\n     </g>\r\n    </g>\r\n    <g id=\"ytick_4\">\r\n     <g id=\"line2d_9\">\r\n      <g>\r\n       <use style=\"stroke:#000000;stroke-width:0.8;\" x=\"30.103125\" xlink:href=\"#m2a08e8c5c9\" y=\"87.603223\"/>\r\n      </g>\r\n     </g>\r\n     <g id=\"text_9\">\r\n      <!-- 0.8 -->\r\n      <defs>\r\n       <path d=\"M 31.78125 34.625 \r\nQ 24.75 34.625 20.71875 30.859375 \r\nQ 16.703125 27.09375 16.703125 20.515625 \r\nQ 16.703125 13.921875 20.71875 10.15625 \r\nQ 24.75 6.390625 31.78125 6.390625 \r\nQ 38.8125 6.390625 42.859375 10.171875 \r\nQ 46.921875 13.96875 46.921875 20.515625 \r\nQ 46.921875 27.09375 42.890625 30.859375 \r\nQ 38.875 34.625 31.78125 34.625 \r\nz\r\nM 21.921875 38.8125 \r\nQ 15.578125 40.375 12.03125 44.71875 \r\nQ 8.5 49.078125 8.5 55.328125 \r\nQ 8.5 64.0625 14.71875 69.140625 \r\nQ 20.953125 74.21875 31.78125 74.21875 \r\nQ 42.671875 74.21875 48.875 69.140625 \r\nQ 55.078125 64.0625 55.078125 55.328125 \r\nQ 55.078125 49.078125 51.53125 44.71875 \r\nQ 48 40.375 41.703125 38.8125 \r\nQ 48.828125 37.15625 52.796875 32.3125 \r\nQ 56.78125 27.484375 56.78125 20.515625 \r\nQ 56.78125 9.90625 50.3125 4.234375 \r\nQ 43.84375 -1.421875 31.78125 -1.421875 \r\nQ 19.734375 -1.421875 13.25 4.234375 \r\nQ 6.78125 9.90625 6.78125 20.515625 \r\nQ 6.78125 27.484375 10.78125 32.3125 \r\nQ 14.796875 37.15625 21.921875 38.8125 \r\nz\r\nM 18.3125 54.390625 \r\nQ 18.3125 48.734375 21.84375 45.5625 \r\nQ 25.390625 42.390625 31.78125 42.390625 \r\nQ 38.140625 42.390625 41.71875 45.5625 \r\nQ 45.3125 48.734375 45.3125 54.390625 \r\nQ 45.3125 60.0625 41.71875 63.234375 \r\nQ 38.140625 66.40625 31.78125 66.40625 \r\nQ 25.390625 66.40625 21.84375 63.234375 \r\nQ 18.3125 60.0625 18.3125 54.390625 \r\nz\r\n\" id=\"DejaVuSans-56\"/>\r\n      </defs>\r\n      <g transform=\"translate(7.2 91.402442)scale(0.1 -0.1)\">\r\n       <use xlink:href=\"#DejaVuSans-48\"/>\r\n       <use x=\"63.623047\" xlink:href=\"#DejaVuSans-46\"/>\r\n       <use x=\"95.410156\" xlink:href=\"#DejaVuSans-56\"/>\r\n      </g>\r\n     </g>\r\n    </g>\r\n    <g id=\"ytick_5\">\r\n     <g id=\"line2d_10\">\r\n      <g>\r\n       <use style=\"stroke:#000000;stroke-width:0.8;\" x=\"30.103125\" xlink:href=\"#m2a08e8c5c9\" y=\"48.560614\"/>\r\n      </g>\r\n     </g>\r\n     <g id=\"text_10\">\r\n      <!-- 0.9 -->\r\n      <defs>\r\n       <path d=\"M 10.984375 1.515625 \r\nL 10.984375 10.5 \r\nQ 14.703125 8.734375 18.5 7.8125 \r\nQ 22.3125 6.890625 25.984375 6.890625 \r\nQ 35.75 6.890625 40.890625 13.453125 \r\nQ 46.046875 20.015625 46.78125 33.40625 \r\nQ 43.953125 29.203125 39.59375 26.953125 \r\nQ 35.25 24.703125 29.984375 24.703125 \r\nQ 19.046875 24.703125 12.671875 31.3125 \r\nQ 6.296875 37.9375 6.296875 49.421875 \r\nQ 6.296875 60.640625 12.9375 67.421875 \r\nQ 19.578125 74.21875 30.609375 74.21875 \r\nQ 43.265625 74.21875 49.921875 64.515625 \r\nQ 56.59375 54.828125 56.59375 36.375 \r\nQ 56.59375 19.140625 48.40625 8.859375 \r\nQ 40.234375 -1.421875 26.421875 -1.421875 \r\nQ 22.703125 -1.421875 18.890625 -0.6875 \r\nQ 15.09375 0.046875 10.984375 1.515625 \r\nz\r\nM 30.609375 32.421875 \r\nQ 37.25 32.421875 41.125 36.953125 \r\nQ 45.015625 41.5 45.015625 49.421875 \r\nQ 45.015625 57.28125 41.125 61.84375 \r\nQ 37.25 66.40625 30.609375 66.40625 \r\nQ 23.96875 66.40625 20.09375 61.84375 \r\nQ 16.21875 57.28125 16.21875 49.421875 \r\nQ 16.21875 41.5 20.09375 36.953125 \r\nQ 23.96875 32.421875 30.609375 32.421875 \r\nz\r\n\" id=\"DejaVuSans-57\"/>\r\n      </defs>\r\n      <g transform=\"translate(7.2 52.359833)scale(0.1 -0.1)\">\r\n       <use xlink:href=\"#DejaVuSans-48\"/>\r\n       <use x=\"63.623047\" xlink:href=\"#DejaVuSans-46\"/>\r\n       <use x=\"95.410156\" xlink:href=\"#DejaVuSans-57\"/>\r\n      </g>\r\n     </g>\r\n    </g>\r\n   </g>\r\n   <g id=\"line2d_11\">\r\n    <path clip-path=\"url(#p9977f6af9c)\" d=\"M 45.321307 92.600677 \r\nL 58.554508 41.45486 \r\nL 71.78771 160.808114 \r\nL 85.020912 181.539739 \r\nL 98.254113 65.075638 \r\nL 111.487315 208.986693 \r\nL 124.720516 94.474722 \r\nL 137.953718 32.201761 \r\nL 151.186919 194.345715 \r\nL 164.420121 79.989914 \r\nL 177.653323 195.516993 \r\nL 190.886524 147.377457 \r\nL 204.119726 229.874489 \r\nL 217.352927 142.262875 \r\nL 230.586129 147.57267 \r\nL 243.819331 61.835101 \r\nL 257.052532 114.776879 \r\nL 270.285734 141.130639 \r\nL 283.518935 175.722391 \r\nL 296.752137 82.215343 \r\nL 309.985338 174.473027 \r\nL 323.21854 80.497468 \r\nL 336.451742 149.212459 \r\nL 349.684943 199.694552 \r\n\" style=\"fill:none;stroke:#1f77b4;stroke-linecap:square;stroke-width:1.5;\"/>\r\n   </g>\r\n   <g id=\"line2d_12\">\r\n    <path clip-path=\"url(#p9977f6af9c)\" d=\"M 45.321307 92.600677 \r\nL 58.554508 41.45486 \r\nL 71.78771 160.808114 \r\nL 85.020912 181.539739 \r\nL 98.254113 65.075638 \r\nL 111.487315 208.986693 \r\nL 124.720516 94.474722 \r\nL 137.953718 32.201761 \r\nL 151.186919 194.345715 \r\nL 164.420121 79.989914 \r\nL 177.653323 195.516993 \r\nL 190.886524 147.377457 \r\nL 204.119726 229.874489 \r\nL 217.352927 142.262875 \r\nL 230.586129 147.57267 \r\nL 243.819331 61.835101 \r\nL 257.052532 114.776879 \r\nL 270.285734 141.130639 \r\nL 283.518935 175.722391 \r\nL 296.752137 82.215343 \r\nL 309.985338 174.473027 \r\nL 323.21854 80.497468 \r\nL 336.451742 149.212459 \r\nL 349.684943 199.694552 \r\n\" style=\"fill:none;stroke:#ff7f0e;stroke-linecap:square;stroke-width:1.5;\"/>\r\n   </g>\r\n   <g id=\"patch_3\">\r\n    <path d=\"M 30.103125 239.758125 \r\nL 30.103125 22.318125 \r\n\" style=\"fill:none;stroke:#000000;stroke-linecap:square;stroke-linejoin:miter;stroke-width:0.8;\"/>\r\n   </g>\r\n   <g id=\"patch_4\">\r\n    <path d=\"M 364.903125 239.758125 \r\nL 364.903125 22.318125 \r\n\" style=\"fill:none;stroke:#000000;stroke-linecap:square;stroke-linejoin:miter;stroke-width:0.8;\"/>\r\n   </g>\r\n   <g id=\"patch_5\">\r\n    <path d=\"M 30.103125 239.758125 \r\nL 364.903125 239.758125 \r\n\" style=\"fill:none;stroke:#000000;stroke-linecap:square;stroke-linejoin:miter;stroke-width:0.8;\"/>\r\n   </g>\r\n   <g id=\"patch_6\">\r\n    <path d=\"M 30.103125 22.318125 \r\nL 364.903125 22.318125 \r\n\" style=\"fill:none;stroke:#000000;stroke-linecap:square;stroke-linejoin:miter;stroke-width:0.8;\"/>\r\n   </g>\r\n   <g id=\"text_11\">\r\n    <!-- Volumen asociado a cada bin -->\r\n    <defs>\r\n     <path d=\"M 28.609375 0 \r\nL 0.78125 72.90625 \r\nL 11.078125 72.90625 \r\nL 34.1875 11.53125 \r\nL 57.328125 72.90625 \r\nL 67.578125 72.90625 \r\nL 39.796875 0 \r\nz\r\n\" id=\"DejaVuSans-86\"/>\r\n     <path d=\"M 30.609375 48.390625 \r\nQ 23.390625 48.390625 19.1875 42.75 \r\nQ 14.984375 37.109375 14.984375 27.296875 \r\nQ 14.984375 17.484375 19.15625 11.84375 \r\nQ 23.34375 6.203125 30.609375 6.203125 \r\nQ 37.796875 6.203125 41.984375 11.859375 \r\nQ 46.1875 17.53125 46.1875 27.296875 \r\nQ 46.1875 37.015625 41.984375 42.703125 \r\nQ 37.796875 48.390625 30.609375 48.390625 \r\nz\r\nM 30.609375 56 \r\nQ 42.328125 56 49.015625 48.375 \r\nQ 55.71875 40.765625 55.71875 27.296875 \r\nQ 55.71875 13.875 49.015625 6.21875 \r\nQ 42.328125 -1.421875 30.609375 -1.421875 \r\nQ 18.84375 -1.421875 12.171875 6.21875 \r\nQ 5.515625 13.875 5.515625 27.296875 \r\nQ 5.515625 40.765625 12.171875 48.375 \r\nQ 18.84375 56 30.609375 56 \r\nz\r\n\" id=\"DejaVuSans-111\"/>\r\n     <path d=\"M 9.421875 75.984375 \r\nL 18.40625 75.984375 \r\nL 18.40625 0 \r\nL 9.421875 0 \r\nz\r\n\" id=\"DejaVuSans-108\"/>\r\n     <path d=\"M 8.5 21.578125 \r\nL 8.5 54.6875 \r\nL 17.484375 54.6875 \r\nL 17.484375 21.921875 \r\nQ 17.484375 14.15625 20.5 10.265625 \r\nQ 23.53125 6.390625 29.59375 6.390625 \r\nQ 36.859375 6.390625 41.078125 11.03125 \r\nQ 45.3125 15.671875 45.3125 23.6875 \r\nL 45.3125 54.6875 \r\nL 54.296875 54.6875 \r\nL 54.296875 0 \r\nL 45.3125 0 \r\nL 45.3125 8.40625 \r\nQ 42.046875 3.421875 37.71875 1 \r\nQ 33.40625 -1.421875 27.6875 -1.421875 \r\nQ 18.265625 -1.421875 13.375 4.4375 \r\nQ 8.5 10.296875 8.5 21.578125 \r\nz\r\nM 31.109375 56 \r\nz\r\n\" id=\"DejaVuSans-117\"/>\r\n     <path d=\"M 52 44.1875 \r\nQ 55.375 50.25 60.0625 53.125 \r\nQ 64.75 56 71.09375 56 \r\nQ 79.640625 56 84.28125 50.015625 \r\nQ 88.921875 44.046875 88.921875 33.015625 \r\nL 88.921875 0 \r\nL 79.890625 0 \r\nL 79.890625 32.71875 \r\nQ 79.890625 40.578125 77.09375 44.375 \r\nQ 74.3125 48.1875 68.609375 48.1875 \r\nQ 61.625 48.1875 57.5625 43.546875 \r\nQ 53.515625 38.921875 53.515625 30.90625 \r\nL 53.515625 0 \r\nL 44.484375 0 \r\nL 44.484375 32.71875 \r\nQ 44.484375 40.625 41.703125 44.40625 \r\nQ 38.921875 48.1875 33.109375 48.1875 \r\nQ 26.21875 48.1875 22.15625 43.53125 \r\nQ 18.109375 38.875 18.109375 30.90625 \r\nL 18.109375 0 \r\nL 9.078125 0 \r\nL 9.078125 54.6875 \r\nL 18.109375 54.6875 \r\nL 18.109375 46.1875 \r\nQ 21.1875 51.21875 25.484375 53.609375 \r\nQ 29.78125 56 35.6875 56 \r\nQ 41.65625 56 45.828125 52.96875 \r\nQ 50 49.953125 52 44.1875 \r\nz\r\n\" id=\"DejaVuSans-109\"/>\r\n     <path d=\"M 56.203125 29.59375 \r\nL 56.203125 25.203125 \r\nL 14.890625 25.203125 \r\nQ 15.484375 15.921875 20.484375 11.0625 \r\nQ 25.484375 6.203125 34.421875 6.203125 \r\nQ 39.59375 6.203125 44.453125 7.46875 \r\nQ 49.3125 8.734375 54.109375 11.28125 \r\nL 54.109375 2.78125 \r\nQ 49.265625 0.734375 44.1875 -0.34375 \r\nQ 39.109375 -1.421875 33.890625 -1.421875 \r\nQ 20.796875 -1.421875 13.15625 6.1875 \r\nQ 5.515625 13.8125 5.515625 26.8125 \r\nQ 5.515625 40.234375 12.765625 48.109375 \r\nQ 20.015625 56 32.328125 56 \r\nQ 43.359375 56 49.78125 48.890625 \r\nQ 56.203125 41.796875 56.203125 29.59375 \r\nz\r\nM 47.21875 32.234375 \r\nQ 47.125 39.59375 43.09375 43.984375 \r\nQ 39.0625 48.390625 32.421875 48.390625 \r\nQ 24.90625 48.390625 20.390625 44.140625 \r\nQ 15.875 39.890625 15.1875 32.171875 \r\nz\r\n\" id=\"DejaVuSans-101\"/>\r\n     <path d=\"M 54.890625 33.015625 \r\nL 54.890625 0 \r\nL 45.90625 0 \r\nL 45.90625 32.71875 \r\nQ 45.90625 40.484375 42.875 44.328125 \r\nQ 39.84375 48.1875 33.796875 48.1875 \r\nQ 26.515625 48.1875 22.3125 43.546875 \r\nQ 18.109375 38.921875 18.109375 30.90625 \r\nL 18.109375 0 \r\nL 9.078125 0 \r\nL 9.078125 54.6875 \r\nL 18.109375 54.6875 \r\nL 18.109375 46.1875 \r\nQ 21.34375 51.125 25.703125 53.5625 \r\nQ 30.078125 56 35.796875 56 \r\nQ 45.21875 56 50.046875 50.171875 \r\nQ 54.890625 44.34375 54.890625 33.015625 \r\nz\r\n\" id=\"DejaVuSans-110\"/>\r\n     <path id=\"DejaVuSans-32\"/>\r\n     <path d=\"M 34.28125 27.484375 \r\nQ 23.390625 27.484375 19.1875 25 \r\nQ 14.984375 22.515625 14.984375 16.5 \r\nQ 14.984375 11.71875 18.140625 8.90625 \r\nQ 21.296875 6.109375 26.703125 6.109375 \r\nQ 34.1875 6.109375 38.703125 11.40625 \r\nQ 43.21875 16.703125 43.21875 25.484375 \r\nL 43.21875 27.484375 \r\nz\r\nM 52.203125 31.203125 \r\nL 52.203125 0 \r\nL 43.21875 0 \r\nL 43.21875 8.296875 \r\nQ 40.140625 3.328125 35.546875 0.953125 \r\nQ 30.953125 -1.421875 24.3125 -1.421875 \r\nQ 15.921875 -1.421875 10.953125 3.296875 \r\nQ 6 8.015625 6 15.921875 \r\nQ 6 25.140625 12.171875 29.828125 \r\nQ 18.359375 34.515625 30.609375 34.515625 \r\nL 43.21875 34.515625 \r\nL 43.21875 35.40625 \r\nQ 43.21875 41.609375 39.140625 45 \r\nQ 35.0625 48.390625 27.6875 48.390625 \r\nQ 23 48.390625 18.546875 47.265625 \r\nQ 14.109375 46.140625 10.015625 43.890625 \r\nL 10.015625 52.203125 \r\nQ 14.9375 54.109375 19.578125 55.046875 \r\nQ 24.21875 56 28.609375 56 \r\nQ 40.484375 56 46.34375 49.84375 \r\nQ 52.203125 43.703125 52.203125 31.203125 \r\nz\r\n\" id=\"DejaVuSans-97\"/>\r\n     <path d=\"M 44.28125 53.078125 \r\nL 44.28125 44.578125 \r\nQ 40.484375 46.53125 36.375 47.5 \r\nQ 32.28125 48.484375 27.875 48.484375 \r\nQ 21.1875 48.484375 17.84375 46.4375 \r\nQ 14.5 44.390625 14.5 40.28125 \r\nQ 14.5 37.15625 16.890625 35.375 \r\nQ 19.28125 33.59375 26.515625 31.984375 \r\nL 29.59375 31.296875 \r\nQ 39.15625 29.25 43.1875 25.515625 \r\nQ 47.21875 21.78125 47.21875 15.09375 \r\nQ 47.21875 7.46875 41.1875 3.015625 \r\nQ 35.15625 -1.421875 24.609375 -1.421875 \r\nQ 20.21875 -1.421875 15.453125 -0.5625 \r\nQ 10.6875 0.296875 5.421875 2 \r\nL 5.421875 11.28125 \r\nQ 10.40625 8.6875 15.234375 7.390625 \r\nQ 20.0625 6.109375 24.8125 6.109375 \r\nQ 31.15625 6.109375 34.5625 8.28125 \r\nQ 37.984375 10.453125 37.984375 14.40625 \r\nQ 37.984375 18.0625 35.515625 20.015625 \r\nQ 33.0625 21.96875 24.703125 23.78125 \r\nL 21.578125 24.515625 \r\nQ 13.234375 26.265625 9.515625 29.90625 \r\nQ 5.8125 33.546875 5.8125 39.890625 \r\nQ 5.8125 47.609375 11.28125 51.796875 \r\nQ 16.75 56 26.8125 56 \r\nQ 31.78125 56 36.171875 55.265625 \r\nQ 40.578125 54.546875 44.28125 53.078125 \r\nz\r\n\" id=\"DejaVuSans-115\"/>\r\n     <path d=\"M 48.78125 52.59375 \r\nL 48.78125 44.1875 \r\nQ 44.96875 46.296875 41.140625 47.34375 \r\nQ 37.3125 48.390625 33.40625 48.390625 \r\nQ 24.65625 48.390625 19.8125 42.84375 \r\nQ 14.984375 37.3125 14.984375 27.296875 \r\nQ 14.984375 17.28125 19.8125 11.734375 \r\nQ 24.65625 6.203125 33.40625 6.203125 \r\nQ 37.3125 6.203125 41.140625 7.25 \r\nQ 44.96875 8.296875 48.78125 10.40625 \r\nL 48.78125 2.09375 \r\nQ 45.015625 0.34375 40.984375 -0.53125 \r\nQ 36.96875 -1.421875 32.421875 -1.421875 \r\nQ 20.0625 -1.421875 12.78125 6.34375 \r\nQ 5.515625 14.109375 5.515625 27.296875 \r\nQ 5.515625 40.671875 12.859375 48.328125 \r\nQ 20.21875 56 33.015625 56 \r\nQ 37.15625 56 41.109375 55.140625 \r\nQ 45.0625 54.296875 48.78125 52.59375 \r\nz\r\n\" id=\"DejaVuSans-99\"/>\r\n     <path d=\"M 9.421875 54.6875 \r\nL 18.40625 54.6875 \r\nL 18.40625 0 \r\nL 9.421875 0 \r\nz\r\nM 9.421875 75.984375 \r\nL 18.40625 75.984375 \r\nL 18.40625 64.59375 \r\nL 9.421875 64.59375 \r\nz\r\n\" id=\"DejaVuSans-105\"/>\r\n     <path d=\"M 45.40625 46.390625 \r\nL 45.40625 75.984375 \r\nL 54.390625 75.984375 \r\nL 54.390625 0 \r\nL 45.40625 0 \r\nL 45.40625 8.203125 \r\nQ 42.578125 3.328125 38.25 0.953125 \r\nQ 33.9375 -1.421875 27.875 -1.421875 \r\nQ 17.96875 -1.421875 11.734375 6.484375 \r\nQ 5.515625 14.40625 5.515625 27.296875 \r\nQ 5.515625 40.1875 11.734375 48.09375 \r\nQ 17.96875 56 27.875 56 \r\nQ 33.9375 56 38.25 53.625 \r\nQ 42.578125 51.265625 45.40625 46.390625 \r\nz\r\nM 14.796875 27.296875 \r\nQ 14.796875 17.390625 18.875 11.75 \r\nQ 22.953125 6.109375 30.078125 6.109375 \r\nQ 37.203125 6.109375 41.296875 11.75 \r\nQ 45.40625 17.390625 45.40625 27.296875 \r\nQ 45.40625 37.203125 41.296875 42.84375 \r\nQ 37.203125 48.484375 30.078125 48.484375 \r\nQ 22.953125 48.484375 18.875 42.84375 \r\nQ 14.796875 37.203125 14.796875 27.296875 \r\nz\r\n\" id=\"DejaVuSans-100\"/>\r\n     <path d=\"M 48.6875 27.296875 \r\nQ 48.6875 37.203125 44.609375 42.84375 \r\nQ 40.53125 48.484375 33.40625 48.484375 \r\nQ 26.265625 48.484375 22.1875 42.84375 \r\nQ 18.109375 37.203125 18.109375 27.296875 \r\nQ 18.109375 17.390625 22.1875 11.75 \r\nQ 26.265625 6.109375 33.40625 6.109375 \r\nQ 40.53125 6.109375 44.609375 11.75 \r\nQ 48.6875 17.390625 48.6875 27.296875 \r\nz\r\nM 18.109375 46.390625 \r\nQ 20.953125 51.265625 25.265625 53.625 \r\nQ 29.59375 56 35.59375 56 \r\nQ 45.5625 56 51.78125 48.09375 \r\nQ 58.015625 40.1875 58.015625 27.296875 \r\nQ 58.015625 14.40625 51.78125 6.484375 \r\nQ 45.5625 -1.421875 35.59375 -1.421875 \r\nQ 29.59375 -1.421875 25.265625 0.953125 \r\nQ 20.953125 3.328125 18.109375 8.203125 \r\nL 18.109375 0 \r\nL 9.078125 0 \r\nL 9.078125 75.984375 \r\nL 18.109375 75.984375 \r\nz\r\n\" id=\"DejaVuSans-98\"/>\r\n    </defs>\r\n    <g transform=\"translate(109.742813 16.318125)scale(0.12 -0.12)\">\r\n     <use xlink:href=\"#DejaVuSans-86\"/>\r\n     <use x=\"60.658203\" xlink:href=\"#DejaVuSans-111\"/>\r\n     <use x=\"121.839844\" xlink:href=\"#DejaVuSans-108\"/>\r\n     <use x=\"149.623047\" xlink:href=\"#DejaVuSans-117\"/>\r\n     <use x=\"213.001953\" xlink:href=\"#DejaVuSans-109\"/>\r\n     <use x=\"310.414062\" xlink:href=\"#DejaVuSans-101\"/>\r\n     <use x=\"371.9375\" xlink:href=\"#DejaVuSans-110\"/>\r\n     <use x=\"435.316406\" xlink:href=\"#DejaVuSans-32\"/>\r\n     <use x=\"467.103516\" xlink:href=\"#DejaVuSans-97\"/>\r\n     <use x=\"528.382812\" xlink:href=\"#DejaVuSans-115\"/>\r\n     <use x=\"580.482422\" xlink:href=\"#DejaVuSans-111\"/>\r\n     <use x=\"641.664062\" xlink:href=\"#DejaVuSans-99\"/>\r\n     <use x=\"696.644531\" xlink:href=\"#DejaVuSans-105\"/>\r\n     <use x=\"724.427734\" xlink:href=\"#DejaVuSans-97\"/>\r\n     <use x=\"785.707031\" xlink:href=\"#DejaVuSans-100\"/>\r\n     <use x=\"849.183594\" xlink:href=\"#DejaVuSans-111\"/>\r\n     <use x=\"910.365234\" xlink:href=\"#DejaVuSans-32\"/>\r\n     <use x=\"942.152344\" xlink:href=\"#DejaVuSans-97\"/>\r\n     <use x=\"1003.431641\" xlink:href=\"#DejaVuSans-32\"/>\r\n     <use x=\"1035.21875\" xlink:href=\"#DejaVuSans-99\"/>\r\n     <use x=\"1090.199219\" xlink:href=\"#DejaVuSans-97\"/>\r\n     <use x=\"1151.478516\" xlink:href=\"#DejaVuSans-100\"/>\r\n     <use x=\"1214.955078\" xlink:href=\"#DejaVuSans-97\"/>\r\n     <use x=\"1276.234375\" xlink:href=\"#DejaVuSans-32\"/>\r\n     <use x=\"1308.021484\" xlink:href=\"#DejaVuSans-98\"/>\r\n     <use x=\"1371.498047\" xlink:href=\"#DejaVuSans-105\"/>\r\n     <use x=\"1399.28125\" xlink:href=\"#DejaVuSans-110\"/>\r\n    </g>\r\n   </g>\r\n   <g id=\"legend_1\">\r\n    <g id=\"patch_7\">\r\n     <path d=\"M 258.939063 59.674375 \r\nL 357.903125 59.674375 \r\nQ 359.903125 59.674375 359.903125 57.674375 \r\nL 359.903125 29.318125 \r\nQ 359.903125 27.318125 357.903125 27.318125 \r\nL 258.939063 27.318125 \r\nQ 256.939063 27.318125 256.939063 29.318125 \r\nL 256.939063 57.674375 \r\nQ 256.939063 59.674375 258.939063 59.674375 \r\nz\r\n\" style=\"fill:#ffffff;opacity:0.8;stroke:#cccccc;stroke-linejoin:miter;\"/>\r\n    </g>\r\n    <g id=\"line2d_13\">\r\n     <path d=\"M 260.939063 35.416562 \r\nL 280.939063 35.416562 \r\n\" style=\"fill:none;stroke:#1f77b4;stroke-linecap:square;stroke-width:1.5;\"/>\r\n    </g>\r\n    <g id=\"line2d_14\"/>\r\n    <g id=\"text_12\">\r\n     <!-- First Solution -->\r\n     <defs>\r\n      <path d=\"M 9.8125 72.90625 \r\nL 51.703125 72.90625 \r\nL 51.703125 64.59375 \r\nL 19.671875 64.59375 \r\nL 19.671875 43.109375 \r\nL 48.578125 43.109375 \r\nL 48.578125 34.8125 \r\nL 19.671875 34.8125 \r\nL 19.671875 0 \r\nL 9.8125 0 \r\nz\r\n\" id=\"DejaVuSans-70\"/>\r\n      <path d=\"M 41.109375 46.296875 \r\nQ 39.59375 47.171875 37.8125 47.578125 \r\nQ 36.03125 48 33.890625 48 \r\nQ 26.265625 48 22.1875 43.046875 \r\nQ 18.109375 38.09375 18.109375 28.8125 \r\nL 18.109375 0 \r\nL 9.078125 0 \r\nL 9.078125 54.6875 \r\nL 18.109375 54.6875 \r\nL 18.109375 46.1875 \r\nQ 20.953125 51.171875 25.484375 53.578125 \r\nQ 30.03125 56 36.53125 56 \r\nQ 37.453125 56 38.578125 55.875 \r\nQ 39.703125 55.765625 41.0625 55.515625 \r\nz\r\n\" id=\"DejaVuSans-114\"/>\r\n      <path d=\"M 18.3125 70.21875 \r\nL 18.3125 54.6875 \r\nL 36.8125 54.6875 \r\nL 36.8125 47.703125 \r\nL 18.3125 47.703125 \r\nL 18.3125 18.015625 \r\nQ 18.3125 11.328125 20.140625 9.421875 \r\nQ 21.96875 7.515625 27.59375 7.515625 \r\nL 36.8125 7.515625 \r\nL 36.8125 0 \r\nL 27.59375 0 \r\nQ 17.1875 0 13.234375 3.875 \r\nQ 9.28125 7.765625 9.28125 18.015625 \r\nL 9.28125 47.703125 \r\nL 2.6875 47.703125 \r\nL 2.6875 54.6875 \r\nL 9.28125 54.6875 \r\nL 9.28125 70.21875 \r\nz\r\n\" id=\"DejaVuSans-116\"/>\r\n      <path d=\"M 53.515625 70.515625 \r\nL 53.515625 60.890625 \r\nQ 47.90625 63.578125 42.921875 64.890625 \r\nQ 37.9375 66.21875 33.296875 66.21875 \r\nQ 25.25 66.21875 20.875 63.09375 \r\nQ 16.5 59.96875 16.5 54.203125 \r\nQ 16.5 49.359375 19.40625 46.890625 \r\nQ 22.3125 44.4375 30.421875 42.921875 \r\nL 36.375 41.703125 \r\nQ 47.40625 39.59375 52.65625 34.296875 \r\nQ 57.90625 29 57.90625 20.125 \r\nQ 57.90625 9.515625 50.796875 4.046875 \r\nQ 43.703125 -1.421875 29.984375 -1.421875 \r\nQ 24.8125 -1.421875 18.96875 -0.25 \r\nQ 13.140625 0.921875 6.890625 3.21875 \r\nL 6.890625 13.375 \r\nQ 12.890625 10.015625 18.65625 8.296875 \r\nQ 24.421875 6.59375 29.984375 6.59375 \r\nQ 38.421875 6.59375 43.015625 9.90625 \r\nQ 47.609375 13.234375 47.609375 19.390625 \r\nQ 47.609375 24.75 44.3125 27.78125 \r\nQ 41.015625 30.8125 33.5 32.328125 \r\nL 27.484375 33.5 \r\nQ 16.453125 35.6875 11.515625 40.375 \r\nQ 6.59375 45.0625 6.59375 53.421875 \r\nQ 6.59375 63.09375 13.40625 68.65625 \r\nQ 20.21875 74.21875 32.171875 74.21875 \r\nQ 37.3125 74.21875 42.625 73.28125 \r\nQ 47.953125 72.359375 53.515625 70.515625 \r\nz\r\n\" id=\"DejaVuSans-83\"/>\r\n     </defs>\r\n     <g transform=\"translate(288.939063 38.916562)scale(0.1 -0.1)\">\r\n      <use xlink:href=\"#DejaVuSans-70\"/>\r\n      <use x=\"50.269531\" xlink:href=\"#DejaVuSans-105\"/>\r\n      <use x=\"78.052734\" xlink:href=\"#DejaVuSans-114\"/>\r\n      <use x=\"119.166016\" xlink:href=\"#DejaVuSans-115\"/>\r\n      <use x=\"171.265625\" xlink:href=\"#DejaVuSans-116\"/>\r\n      <use x=\"210.474609\" xlink:href=\"#DejaVuSans-32\"/>\r\n      <use x=\"242.261719\" xlink:href=\"#DejaVuSans-83\"/>\r\n      <use x=\"305.738281\" xlink:href=\"#DejaVuSans-111\"/>\r\n      <use x=\"366.919922\" xlink:href=\"#DejaVuSans-108\"/>\r\n      <use x=\"394.703125\" xlink:href=\"#DejaVuSans-117\"/>\r\n      <use x=\"458.082031\" xlink:href=\"#DejaVuSans-116\"/>\r\n      <use x=\"497.291016\" xlink:href=\"#DejaVuSans-105\"/>\r\n      <use x=\"525.074219\" xlink:href=\"#DejaVuSans-111\"/>\r\n      <use x=\"586.255859\" xlink:href=\"#DejaVuSans-110\"/>\r\n     </g>\r\n    </g>\r\n    <g id=\"line2d_15\">\r\n     <path d=\"M 260.939063 50.094687 \r\nL 280.939063 50.094687 \r\n\" style=\"fill:none;stroke:#ff7f0e;stroke-linecap:square;stroke-width:1.5;\"/>\r\n    </g>\r\n    <g id=\"line2d_16\"/>\r\n    <g id=\"text_13\">\r\n     <!-- Final Solution -->\r\n     <g transform=\"translate(288.939063 53.594687)scale(0.1 -0.1)\">\r\n      <use xlink:href=\"#DejaVuSans-70\"/>\r\n      <use x=\"50.269531\" xlink:href=\"#DejaVuSans-105\"/>\r\n      <use x=\"78.052734\" xlink:href=\"#DejaVuSans-110\"/>\r\n      <use x=\"141.431641\" xlink:href=\"#DejaVuSans-97\"/>\r\n      <use x=\"202.710938\" xlink:href=\"#DejaVuSans-108\"/>\r\n      <use x=\"230.494141\" xlink:href=\"#DejaVuSans-32\"/>\r\n      <use x=\"262.28125\" xlink:href=\"#DejaVuSans-83\"/>\r\n      <use x=\"325.757812\" xlink:href=\"#DejaVuSans-111\"/>\r\n      <use x=\"386.939453\" xlink:href=\"#DejaVuSans-108\"/>\r\n      <use x=\"414.722656\" xlink:href=\"#DejaVuSans-117\"/>\r\n      <use x=\"478.101562\" xlink:href=\"#DejaVuSans-116\"/>\r\n      <use x=\"517.310547\" xlink:href=\"#DejaVuSans-105\"/>\r\n      <use x=\"545.09375\" xlink:href=\"#DejaVuSans-111\"/>\r\n      <use x=\"606.275391\" xlink:href=\"#DejaVuSans-110\"/>\r\n     </g>\r\n    </g>\r\n   </g>\r\n  </g>\r\n </g>\r\n <defs>\r\n  <clipPath id=\"p9977f6af9c\">\r\n   <rect height=\"217.44\" width=\"334.8\" x=\"30.103125\" y=\"22.318125\"/>\r\n  </clipPath>\r\n </defs>\r\n</svg>\r\n",
      "image/png": "[encoded data removed]"
     },
     "metadata": {
      "needs_background": "light"
     }
    }
   ],
   "source": [
    "def mclp(idClass, idInstance, boxSize, port=8060):\n",
    "    swapIter = 10\n",
    "    bins = solve(swapIter, port)\n",
    "    return len(bins)\n",
    "\n",
    "## VARIABLES GLOBALES\n",
    "global channel\n",
    "idClass = 1\n",
    "boxSize = 100\n",
    "idInstance = 0\n",
    "port = 8060\n",
    "boxes, channel = loadInstance(idClass, boxSize, idInstance, port)   \n",
    "\n",
    "i = mclp(idClass, idInstance, boxSize)"
   ]
  },
  {
   "cell_type": "code",
   "execution_count": 79,
   "metadata": {},
   "outputs": [
    {
     "output_type": "stream",
     "name": "stdout",
     "text": [
      "Ending MCLP server\n"
     ]
    }
   ],
   "source": [
    "close_mclp_server(port)"
   ]
  },
  {
   "cell_type": "code",
   "execution_count": null,
   "metadata": {},
   "outputs": [],
   "source": []
  }
 ],
 "metadata": {
  "kernelspec": {
   "display_name": "Python 3",
   "language": "python",
   "name": "python3"
  },
  "language_info": {
   "codemirror_mode": {
    "name": "ipython",
    "version": 3
   },
   "file_extension": ".py",
   "mimetype": "text/x-python",
   "name": "python",
   "nbconvert_exporter": "python",
   "pygments_lexer": "ipython3",
   "version": "3.8.3-final"
  }
 },
 "nbformat": 4,
 "nbformat_minor": 4
}