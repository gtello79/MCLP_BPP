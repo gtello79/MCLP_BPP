{
 "cells": [
  {
   "cell_type": "markdown",
   "metadata": {},
   "source": [
    "Conexión por SSH\n",
    "=="
   ]
  },
  {
   "cell_type": "code",
   "execution_count": 24,
   "metadata": {},
   "outputs": [
    {
     "name": "stdin",
     "output_type": "stream",
     "text": [
      " ··········\n"
     ]
    }
   ],
   "source": [
    "import paramiko\n",
    "import getpass\n",
    "\n",
    "host = \"158.251.88.197\"\n",
    "port = 22\n",
    "username = \"gonzalo\"\n",
    "password = getpass.getpass()\n",
    "\n",
    "ssh = paramiko.SSHClient()\n",
    "ssh.set_missing_host_key_policy(paramiko.AutoAddPolicy())\n",
    "ssh.connect(host, port, username, password)"
   ]
  },
  {
   "cell_type": "markdown",
   "metadata": {},
   "source": [
    "Ejecución de comandos\n",
    "=="
   ]
  },
  {
   "cell_type": "markdown",
   "metadata": {},
   "source": [
    "Implementé un *servidor MCLP*, el cual escucha instrucciones para generar bins.\n",
    "\n",
    "El siguiente código lanza el servidor en el background, carga una instancia y lo deja escuchando peticiones por el puerto 8080"
   ]
  },
  {
   "cell_type": "code",
   "execution_count": 26,
   "metadata": {},
   "outputs": [],
   "source": [
    "transport = ssh.get_transport()\n",
    "channel = transport.open_session()\n",
    "channel.exec_command(\"./mclp/Metasolver/BASIC_BSG_MCLP mclp/Metasolver/problems/mclp/benchs/class1/100.txt -i 2\")"
   ]
  },
  {
   "cell_type": "markdown",
   "metadata": {},
   "source": [
    "**Generación de conjunto inicial de bins con BSG**\n",
    "\n",
    "La siguiente función genera la lista inicial de bins. Cada línea representa un bin indicando el porcentaje de llenado y los ids de sus cajas.\n",
    "\n",
    "Es necesario modificarla para que en vez de imprimir el contenido de los bins, retorne una estructura adecuada."
   ]
  },
  {
   "cell_type": "code",
   "execution_count": 27,
   "metadata": {},
   "outputs": [
    {
     "name": "stdout",
     "output_type": "stream",
     "text": [
      "0.6495 0 8 45 53\n",
      "0.858 1 12 28 78 85 93\n",
      "0.7557 2 61 75\n",
      "0.7324 3 19 79\n",
      "0.9444 4 41 60 63 82\n",
      "0.7073 5 47 59 94\n",
      "0.8826 6 11 18 64 84\n",
      "0.5461 7 36 57\n",
      "0.7696 9 42 92 99\n",
      "0.314 10\n",
      "0.7782 13 77\n",
      "0.4622 14 43\n",
      "0.935 15 32 40 51 72 73\n",
      "0.8123 16 81 90\n",
      "0.8995 17 20 23 38 46 97\n",
      "0.5697 21 22\n",
      "0.8657 24 30 33 34 39 55\n",
      "0.6572 25 29 54\n",
      "0.8497 26 37 88\n",
      "0.4925 27 96\n",
      "0.7205 31 71 91\n",
      "0.6375 35 68 80\n",
      "0.8015 44 65 66\n",
      "0.8811 48 50 70 76\n",
      "0.8034 49 67 69 83\n",
      "0.5525 52\n",
      "0.194 56\n",
      "0.5859 58 74\n",
      "0.7643 62 95 98\n",
      "0.7842 86 87 89\n"
     ]
    }
   ],
   "source": [
    "def generate_bins():\n",
    "    stdin, stdout, stderr = ssh.exec_command(\"echo generate_bins | netcat localhost 8080\")\n",
    "    flag = False\n",
    "    for line in stdout.readlines():\n",
    "        if \"BINS:\" in line: \n",
    "            flag = True\n",
    "            continue\n",
    "        if flag:\n",
    "            print(line.strip())\n",
    "generate_bins()"
   ]
  },
  {
   "cell_type": "markdown",
   "metadata": {},
   "source": [
    "**Construcción de bin priorizando cajas (BSG)**"
   ]
  },
  {
   "cell_type": "code",
   "execution_count": 21,
   "metadata": {
    "collapsed": true,
    "jupyter": {
     "outputs_hidden": true
    }
   },
   "outputs": [
    {
     "name": "stdout",
     "output_type": "stream",
     "text": [
      "0.6659 0 1 45\n",
      "8 53\n"
     ]
    }
   ],
   "source": [
    "def generate_bin(boxes, priority_boxes):\n",
    "    boxes_str = [str(box) for box in boxes]\n",
    "    pboxes_str = [str(pbox) for pbox in priority_boxes]    \n",
    "    stdin, stdout, stderr = ssh.exec_command(\"echo generate_bin \" + \" \".join(boxes_str) + \" -1 \" + \" \".join(pboxes_str) +  \" -2 | netcat localhost 8080\")\n",
    "    for line in stdout.readlines(): print(line.strip())\n",
    "        \n",
    "generate_bin([0,1,8,53,45],[45])"
   ]
  },
  {
   "cell_type": "markdown",
   "metadata": {},
   "source": [
    "Para cerrar el servidor MCLP"
   ]
  },
  {
   "cell_type": "code",
   "execution_count": null,
   "metadata": {},
   "outputs": [],
   "source": [
    "def close_mclp_server():\n",
    "    stdin, stdout, stderr = ssh.exec_command(\"echo END | netcat localhost 8080\")\n",
    "    print(stdout.readlines()[0])\n",
    "    \n",
    "close_mclp_server()"
   ]
  },
  {
   "cell_type": "markdown",
   "metadata": {},
   "source": [
    "Faltaría:\n",
    "\n",
    "* Cargar la instancia en python (cajas con sus dimensiones)\n",
    "* Implementar algoritmo.\n",
    "\n",
    "A grandes rasgos el algoritmo hace los siguiente:\n",
    "1. Generación de bins iniciales usando **BSG**\n",
    "2. Selección de bin a desarmar y almacenar cajas en $C$\n",
    "3. Mientras $C$ no quede vacío o máximo de iteraciones:\n",
    "\n",
    "   1. Seleccionar caja $c$ de $C$\n",
    "   2. Seleccionar bin de destino $B$\n",
    "   3. Usar **BSG** para generar bin $B'$ usando cajas $B \\cup \\{c\\}$, priorizando $c$. Es posible que **BSG** retorne conjunto de cajas residuales $R$\n",
    "   4. Si $R$ es mejor que $c$, $B$ se reemplaza por $B'$ en el conjunto de bins y $C \\gets C \\cup R$\n",
    "   \n",
    " 4. Volver a 2 (seleccionar otro bin para desarmar)"
   ]
  },
  {
   "cell_type": "code",
   "execution_count": null,
   "metadata": {},
   "outputs": [],
   "source": []
  }
 ],
 "metadata": {
  "kernelspec": {
   "display_name": "Python 3",
   "language": "python",
   "name": "python3"
  },
  "language_info": {
   "codemirror_mode": {
    "name": "ipython",
    "version": 3
   },
   "file_extension": ".py",
   "mimetype": "text/x-python",
   "name": "python",
   "nbconvert_exporter": "python",
   "pygments_lexer": "ipython3",
   "version": "3.7.3"
  }
 },
 "nbformat": 4,
 "nbformat_minor": 4
}
